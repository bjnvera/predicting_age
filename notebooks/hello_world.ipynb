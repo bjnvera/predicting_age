{
 "cells": [
  {
   "cell_type": "code",
   "execution_count": null,
   "id": "initial_id",
   "metadata": {},
   "outputs": [],
   "source": [
    "import sys\n",
    "sys.path.append(\"../src\")\n",
    "\n",
    "from lib.i_o import read_csv"
   ]
  },
  {
   "cell_type": "code",
   "execution_count": null,
   "id": "317957d3-b980-4440-ae63-997129f289d6",
   "metadata": {},
   "outputs": [],
   "source": [
    "df_sample = read_csv(\"sample.csv\", \"../data/\")"
   ]
  },
  {
   "cell_type": "code",
   "execution_count": null,
   "id": "5ecdc463-575f-419f-ac5b-c98601ac9bcf",
   "metadata": {},
   "outputs": [],
   "source": [
    "df_sample.head()"
   ]
  }
 ],
 "metadata": {
  "kernelspec": {
   "display_name": "Python 3 (ipykernel)",
   "language": "python",
   "name": "python3"
  },
  "language_info": {
   "codemirror_mode": {
    "name": "ipython",
    "version": 3
   },
   "file_extension": ".py",
   "mimetype": "text/x-python",
   "name": "python",
   "nbconvert_exporter": "python",
   "pygments_lexer": "ipython3",
   "version": "3.10.12"
  }
 },
 "nbformat": 4,
 "nbformat_minor": 5
}
