{
 "cells": [
  {
   "cell_type": "code",
   "execution_count": 49,
   "id": "initial_id",
   "metadata": {},
   "outputs": [],
   "source": [
    "import sys\n",
    "sys.path.append(\"../src\")\n",
    "\n",
    "%matplotlib inline\n",
    "import numpy as np\n",
    "import matplotlib.pyplot as plt\n",
    "import seaborn as sns; sns.set()\n",
    "import numpy as np\n",
    "import pandas as pd\n",
    "from sklearn.metrics import r2_score\n",
    "from sklearn.model_selection import train_test_split\n",
    "from sklearn import preprocessing\n",
    "from sklearn.impute import KNNImputer\n",
    "from xgboost import XGBRegressor\n",
    "from lib.i_o import read_csv"
   ]
  },
  {
   "cell_type": "markdown",
   "id": "e1ec1b2e-e6ee-4d71-bbbc-0873590aa9b6",
   "metadata": {},
   "source": [
    "## 0) Read data"
   ]
  },
  {
   "cell_type": "code",
   "execution_count": 50,
   "id": "317957d3-b980-4440-ae63-997129f289d6",
   "metadata": {},
   "outputs": [
    {
     "name": "stdout",
     "output_type": "stream",
     "text": [
      "Read data from ../data/X_train.csv\n",
      "Read data from ../data/y_train.csv\n"
     ]
    }
   ],
   "source": [
    "df_x_train = read_csv(\"X_train.csv\", \"../data/\").drop(columns=\"id\")\n",
    "df_y_train = read_csv(\"y_train.csv\", \"../data/\").drop(columns=\"id\")"
   ]
  },
  {
   "cell_type": "code",
   "execution_count": 51,
   "id": "4b220308-ca64-470b-a710-2cd6a0d32d0f",
   "metadata": {},
   "outputs": [
    {
     "data": {
      "text/html": [
       "<div>\n",
       "<style scoped>\n",
       "    .dataframe tbody tr th:only-of-type {\n",
       "        vertical-align: middle;\n",
       "    }\n",
       "\n",
       "    .dataframe tbody tr th {\n",
       "        vertical-align: top;\n",
       "    }\n",
       "\n",
       "    .dataframe thead th {\n",
       "        text-align: right;\n",
       "    }\n",
       "</style>\n",
       "<table border=\"1\" class=\"dataframe\">\n",
       "  <thead>\n",
       "    <tr style=\"text-align: right;\">\n",
       "      <th></th>\n",
       "      <th>x0</th>\n",
       "      <th>x1</th>\n",
       "      <th>x2</th>\n",
       "      <th>x3</th>\n",
       "      <th>x4</th>\n",
       "      <th>x5</th>\n",
       "      <th>x6</th>\n",
       "      <th>x7</th>\n",
       "      <th>x8</th>\n",
       "      <th>x9</th>\n",
       "      <th>...</th>\n",
       "      <th>x822</th>\n",
       "      <th>x823</th>\n",
       "      <th>x824</th>\n",
       "      <th>x825</th>\n",
       "      <th>x826</th>\n",
       "      <th>x827</th>\n",
       "      <th>x828</th>\n",
       "      <th>x829</th>\n",
       "      <th>x830</th>\n",
       "      <th>x831</th>\n",
       "    </tr>\n",
       "  </thead>\n",
       "  <tbody>\n",
       "    <tr>\n",
       "      <th>0</th>\n",
       "      <td>14168.823171</td>\n",
       "      <td>10514.380717</td>\n",
       "      <td>3316.149698</td>\n",
       "      <td>94230.695124</td>\n",
       "      <td>102.386606</td>\n",
       "      <td>92.677127</td>\n",
       "      <td>11108.748199</td>\n",
       "      <td>10866.505510</td>\n",
       "      <td>10837.622093</td>\n",
       "      <td>10.227734</td>\n",
       "      <td>...</td>\n",
       "      <td>NaN</td>\n",
       "      <td>12352.094085</td>\n",
       "      <td>846.014651</td>\n",
       "      <td>105.132144</td>\n",
       "      <td>102.112809</td>\n",
       "      <td>2090.004260</td>\n",
       "      <td>2.691845</td>\n",
       "      <td>1234.374109</td>\n",
       "      <td>1000.784475</td>\n",
       "      <td>9285.751272</td>\n",
       "    </tr>\n",
       "    <tr>\n",
       "      <th>1</th>\n",
       "      <td>17757.037554</td>\n",
       "      <td>NaN</td>\n",
       "      <td>4101.016273</td>\n",
       "      <td>92959.527633</td>\n",
       "      <td>NaN</td>\n",
       "      <td>99.855168</td>\n",
       "      <td>10013.959449</td>\n",
       "      <td>10826.607494</td>\n",
       "      <td>10076.101597</td>\n",
       "      <td>11.436970</td>\n",
       "      <td>...</td>\n",
       "      <td>NaN</td>\n",
       "      <td>16198.071494</td>\n",
       "      <td>776.084467</td>\n",
       "      <td>106.385590</td>\n",
       "      <td>103.472030</td>\n",
       "      <td>2474.051881</td>\n",
       "      <td>2.287976</td>\n",
       "      <td>NaN</td>\n",
       "      <td>1012.626705</td>\n",
       "      <td>11750.284764</td>\n",
       "    </tr>\n",
       "    <tr>\n",
       "      <th>2</th>\n",
       "      <td>14226.656663</td>\n",
       "      <td>11029.642499</td>\n",
       "      <td>NaN</td>\n",
       "      <td>124055.600561</td>\n",
       "      <td>100.542483</td>\n",
       "      <td>92.860892</td>\n",
       "      <td>NaN</td>\n",
       "      <td>10492.342868</td>\n",
       "      <td>NaN</td>\n",
       "      <td>10.810076</td>\n",
       "      <td>...</td>\n",
       "      <td>10329.704431</td>\n",
       "      <td>13976.063780</td>\n",
       "      <td>737.040332</td>\n",
       "      <td>103.671234</td>\n",
       "      <td>109.458246</td>\n",
       "      <td>2656.083281</td>\n",
       "      <td>2.843706</td>\n",
       "      <td>888.353607</td>\n",
       "      <td>1048.810385</td>\n",
       "      <td>9553.922728</td>\n",
       "    </tr>\n",
       "    <tr>\n",
       "      <th>3</th>\n",
       "      <td>8766.012436</td>\n",
       "      <td>7384.202998</td>\n",
       "      <td>2147.308418</td>\n",
       "      <td>100157.719990</td>\n",
       "      <td>104.855061</td>\n",
       "      <td>101.929026</td>\n",
       "      <td>10050.049932</td>\n",
       "      <td>10499.521099</td>\n",
       "      <td>10525.030989</td>\n",
       "      <td>10.092109</td>\n",
       "      <td>...</td>\n",
       "      <td>10008.251395</td>\n",
       "      <td>6212.127347</td>\n",
       "      <td>329.044233</td>\n",
       "      <td>105.084488</td>\n",
       "      <td>104.858546</td>\n",
       "      <td>1097.785204</td>\n",
       "      <td>2.732257</td>\n",
       "      <td>927.752967</td>\n",
       "      <td>1048.357330</td>\n",
       "      <td>NaN</td>\n",
       "    </tr>\n",
       "    <tr>\n",
       "      <th>4</th>\n",
       "      <td>13801.016418</td>\n",
       "      <td>13269.493652</td>\n",
       "      <td>3408.316953</td>\n",
       "      <td>92048.527786</td>\n",
       "      <td>103.759758</td>\n",
       "      <td>95.789235</td>\n",
       "      <td>9667.353978</td>\n",
       "      <td>10750.783106</td>\n",
       "      <td>10618.800750</td>\n",
       "      <td>12.006773</td>\n",
       "      <td>...</td>\n",
       "      <td>10095.782015</td>\n",
       "      <td>13772.061493</td>\n",
       "      <td>NaN</td>\n",
       "      <td>NaN</td>\n",
       "      <td>100.369834</td>\n",
       "      <td>2693.053231</td>\n",
       "      <td>2.702908</td>\n",
       "      <td>1471.354073</td>\n",
       "      <td>1071.284484</td>\n",
       "      <td>9423.533063</td>\n",
       "    </tr>\n",
       "  </tbody>\n",
       "</table>\n",
       "<p>5 rows × 832 columns</p>\n",
       "</div>"
      ],
      "text/plain": [
       "             x0            x1           x2             x3          x4  \\\n",
       "0  14168.823171  10514.380717  3316.149698   94230.695124  102.386606   \n",
       "1  17757.037554           NaN  4101.016273   92959.527633         NaN   \n",
       "2  14226.656663  11029.642499          NaN  124055.600561  100.542483   \n",
       "3   8766.012436   7384.202998  2147.308418  100157.719990  104.855061   \n",
       "4  13801.016418  13269.493652  3408.316953   92048.527786  103.759758   \n",
       "\n",
       "           x5            x6            x7            x8         x9  ...  \\\n",
       "0   92.677127  11108.748199  10866.505510  10837.622093  10.227734  ...   \n",
       "1   99.855168  10013.959449  10826.607494  10076.101597  11.436970  ...   \n",
       "2   92.860892           NaN  10492.342868           NaN  10.810076  ...   \n",
       "3  101.929026  10050.049932  10499.521099  10525.030989  10.092109  ...   \n",
       "4   95.789235   9667.353978  10750.783106  10618.800750  12.006773  ...   \n",
       "\n",
       "           x822          x823        x824        x825        x826  \\\n",
       "0           NaN  12352.094085  846.014651  105.132144  102.112809   \n",
       "1           NaN  16198.071494  776.084467  106.385590  103.472030   \n",
       "2  10329.704431  13976.063780  737.040332  103.671234  109.458246   \n",
       "3  10008.251395   6212.127347  329.044233  105.084488  104.858546   \n",
       "4  10095.782015  13772.061493         NaN         NaN  100.369834   \n",
       "\n",
       "          x827      x828         x829         x830          x831  \n",
       "0  2090.004260  2.691845  1234.374109  1000.784475   9285.751272  \n",
       "1  2474.051881  2.287976          NaN  1012.626705  11750.284764  \n",
       "2  2656.083281  2.843706   888.353607  1048.810385   9553.922728  \n",
       "3  1097.785204  2.732257   927.752967  1048.357330           NaN  \n",
       "4  2693.053231  2.702908  1471.354073  1071.284484   9423.533063  \n",
       "\n",
       "[5 rows x 832 columns]"
      ]
     },
     "execution_count": 51,
     "metadata": {},
     "output_type": "execute_result"
    }
   ],
   "source": [
    "df_x_train.head()"
   ]
  },
  {
   "cell_type": "code",
   "execution_count": 52,
   "id": "25690177-5c1b-4df4-ab2f-7daff306134a",
   "metadata": {},
   "outputs": [],
   "source": [
    "# Split the data\n",
    "X_train_val, X_test, y_train_val, y_test = train_test_split(df_x_train, df_y_train, test_size=0.15, random_state=1)\n",
    "X_train, X_val, y_train, y_val = train_test_split(X_train_val, y_train_val, test_size=0.15, random_state=1) "
   ]
  },
  {
   "cell_type": "code",
   "execution_count": 53,
   "id": "02c225af-1e45-4d49-b1d0-1f8c68a78b3d",
   "metadata": {},
   "outputs": [
    {
     "name": "stdout",
     "output_type": "stream",
     "text": [
      "#Features: 832\n",
      "#observations: 1212\n"
     ]
    }
   ],
   "source": [
    "print(f\"#Features: {df_x_train.shape[1]}\\n#observations: {df_x_train.shape[0]}\")"
   ]
  },
  {
   "cell_type": "markdown",
   "id": "cc7927e0-713f-48e1-8b6c-b017ba0d9b8f",
   "metadata": {},
   "source": [
    "## 1) Developing a model"
   ]
  },
  {
   "cell_type": "markdown",
   "id": "9e1fcd13-b981-4a8f-be43-8af6f76365ad",
   "metadata": {},
   "source": [
    "### 1.1) Finding an optimal model"
   ]
  },
  {
   "cell_type": "code",
   "execution_count": 72,
   "id": "3f65e789-bed8-4dd5-bade-d36caacc8f94",
   "metadata": {},
   "outputs": [
    {
     "data": {
      "text/html": [
       "<style>#sk-container-id-6 {color: black;}#sk-container-id-6 pre{padding: 0;}#sk-container-id-6 div.sk-toggleable {background-color: white;}#sk-container-id-6 label.sk-toggleable__label {cursor: pointer;display: block;width: 100%;margin-bottom: 0;padding: 0.3em;box-sizing: border-box;text-align: center;}#sk-container-id-6 label.sk-toggleable__label-arrow:before {content: \"▸\";float: left;margin-right: 0.25em;color: #696969;}#sk-container-id-6 label.sk-toggleable__label-arrow:hover:before {color: black;}#sk-container-id-6 div.sk-estimator:hover label.sk-toggleable__label-arrow:before {color: black;}#sk-container-id-6 div.sk-toggleable__content {max-height: 0;max-width: 0;overflow: hidden;text-align: left;background-color: #f0f8ff;}#sk-container-id-6 div.sk-toggleable__content pre {margin: 0.2em;color: black;border-radius: 0.25em;background-color: #f0f8ff;}#sk-container-id-6 input.sk-toggleable__control:checked~div.sk-toggleable__content {max-height: 200px;max-width: 100%;overflow: auto;}#sk-container-id-6 input.sk-toggleable__control:checked~label.sk-toggleable__label-arrow:before {content: \"▾\";}#sk-container-id-6 div.sk-estimator input.sk-toggleable__control:checked~label.sk-toggleable__label {background-color: #d4ebff;}#sk-container-id-6 div.sk-label input.sk-toggleable__control:checked~label.sk-toggleable__label {background-color: #d4ebff;}#sk-container-id-6 input.sk-hidden--visually {border: 0;clip: rect(1px 1px 1px 1px);clip: rect(1px, 1px, 1px, 1px);height: 1px;margin: -1px;overflow: hidden;padding: 0;position: absolute;width: 1px;}#sk-container-id-6 div.sk-estimator {font-family: monospace;background-color: #f0f8ff;border: 1px dotted black;border-radius: 0.25em;box-sizing: border-box;margin-bottom: 0.5em;}#sk-container-id-6 div.sk-estimator:hover {background-color: #d4ebff;}#sk-container-id-6 div.sk-parallel-item::after {content: \"\";width: 100%;border-bottom: 1px solid gray;flex-grow: 1;}#sk-container-id-6 div.sk-label:hover label.sk-toggleable__label {background-color: #d4ebff;}#sk-container-id-6 div.sk-serial::before {content: \"\";position: absolute;border-left: 1px solid gray;box-sizing: border-box;top: 0;bottom: 0;left: 50%;z-index: 0;}#sk-container-id-6 div.sk-serial {display: flex;flex-direction: column;align-items: center;background-color: white;padding-right: 0.2em;padding-left: 0.2em;position: relative;}#sk-container-id-6 div.sk-item {position: relative;z-index: 1;}#sk-container-id-6 div.sk-parallel {display: flex;align-items: stretch;justify-content: center;background-color: white;position: relative;}#sk-container-id-6 div.sk-item::before, #sk-container-id-6 div.sk-parallel-item::before {content: \"\";position: absolute;border-left: 1px solid gray;box-sizing: border-box;top: 0;bottom: 0;left: 50%;z-index: -1;}#sk-container-id-6 div.sk-parallel-item {display: flex;flex-direction: column;z-index: 1;position: relative;background-color: white;}#sk-container-id-6 div.sk-parallel-item:first-child::after {align-self: flex-end;width: 50%;}#sk-container-id-6 div.sk-parallel-item:last-child::after {align-self: flex-start;width: 50%;}#sk-container-id-6 div.sk-parallel-item:only-child::after {width: 0;}#sk-container-id-6 div.sk-dashed-wrapped {border: 1px dashed gray;margin: 0 0.4em 0.5em 0.4em;box-sizing: border-box;padding-bottom: 0.4em;background-color: white;}#sk-container-id-6 div.sk-label label {font-family: monospace;font-weight: bold;display: inline-block;line-height: 1.2em;}#sk-container-id-6 div.sk-label-container {text-align: center;}#sk-container-id-6 div.sk-container {/* jupyter's `normalize.less` sets `[hidden] { display: none; }` but bootstrap.min.css set `[hidden] { display: none !important; }` so we also need the `!important` here to be able to override the default hidden behavior on the sphinx rendered scikit-learn.org. See: https://github.com/scikit-learn/scikit-learn/issues/21755 */display: inline-block !important;position: relative;}#sk-container-id-6 div.sk-text-repr-fallback {display: none;}</style><div id=\"sk-container-id-6\" class=\"sk-top-container\"><div class=\"sk-text-repr-fallback\"><pre>Pipeline(steps=[(&#x27;scaler&#x27;, RobustScaler()), (&#x27;imputer&#x27;, KNNImputer()),\n",
       "                (&#x27;feature_selector&#x27;,\n",
       "                 SelectFromModel(estimator=XGBRegressor(base_score=None,\n",
       "                                                        booster=None,\n",
       "                                                        callbacks=None,\n",
       "                                                        colsample_bylevel=None,\n",
       "                                                        colsample_bynode=None,\n",
       "                                                        colsample_bytree=None,\n",
       "                                                        device=&#x27;gpu&#x27;,\n",
       "                                                        early_stopping_rounds=None,\n",
       "                                                        enable_categorical=False,\n",
       "                                                        eval_metric=None,\n",
       "                                                        feature_types=None,\n",
       "                                                        gamma=None,\n",
       "                                                        g...\n",
       "                              feature_types=None, gamma=None, grow_policy=None,\n",
       "                              importance_type=None,\n",
       "                              interaction_constraints=None, learning_rate=0.005,\n",
       "                              max_bin=None, max_cat_threshold=None,\n",
       "                              max_cat_to_onehot=None, max_delta_step=None,\n",
       "                              max_depth=None, max_leaves=None,\n",
       "                              min_child_weight=None, missing=nan,\n",
       "                              monotone_constraints=None, multi_strategy=None,\n",
       "                              n_estimators=1000, n_jobs=None,\n",
       "                              num_parallel_tree=None, random_state=None, ...))])</pre><b>In a Jupyter environment, please rerun this cell to show the HTML representation or trust the notebook. <br />On GitHub, the HTML representation is unable to render, please try loading this page with nbviewer.org.</b></div><div class=\"sk-container\" hidden><div class=\"sk-item sk-dashed-wrapped\"><div class=\"sk-label-container\"><div class=\"sk-label sk-toggleable\"><input class=\"sk-toggleable__control sk-hidden--visually\" id=\"sk-estimator-id-36\" type=\"checkbox\" ><label for=\"sk-estimator-id-36\" class=\"sk-toggleable__label sk-toggleable__label-arrow\">Pipeline</label><div class=\"sk-toggleable__content\"><pre>Pipeline(steps=[(&#x27;scaler&#x27;, RobustScaler()), (&#x27;imputer&#x27;, KNNImputer()),\n",
       "                (&#x27;feature_selector&#x27;,\n",
       "                 SelectFromModel(estimator=XGBRegressor(base_score=None,\n",
       "                                                        booster=None,\n",
       "                                                        callbacks=None,\n",
       "                                                        colsample_bylevel=None,\n",
       "                                                        colsample_bynode=None,\n",
       "                                                        colsample_bytree=None,\n",
       "                                                        device=&#x27;gpu&#x27;,\n",
       "                                                        early_stopping_rounds=None,\n",
       "                                                        enable_categorical=False,\n",
       "                                                        eval_metric=None,\n",
       "                                                        feature_types=None,\n",
       "                                                        gamma=None,\n",
       "                                                        g...\n",
       "                              feature_types=None, gamma=None, grow_policy=None,\n",
       "                              importance_type=None,\n",
       "                              interaction_constraints=None, learning_rate=0.005,\n",
       "                              max_bin=None, max_cat_threshold=None,\n",
       "                              max_cat_to_onehot=None, max_delta_step=None,\n",
       "                              max_depth=None, max_leaves=None,\n",
       "                              min_child_weight=None, missing=nan,\n",
       "                              monotone_constraints=None, multi_strategy=None,\n",
       "                              n_estimators=1000, n_jobs=None,\n",
       "                              num_parallel_tree=None, random_state=None, ...))])</pre></div></div></div><div class=\"sk-serial\"><div class=\"sk-item\"><div class=\"sk-estimator sk-toggleable\"><input class=\"sk-toggleable__control sk-hidden--visually\" id=\"sk-estimator-id-37\" type=\"checkbox\" ><label for=\"sk-estimator-id-37\" class=\"sk-toggleable__label sk-toggleable__label-arrow\">RobustScaler</label><div class=\"sk-toggleable__content\"><pre>RobustScaler()</pre></div></div></div><div class=\"sk-item\"><div class=\"sk-estimator sk-toggleable\"><input class=\"sk-toggleable__control sk-hidden--visually\" id=\"sk-estimator-id-38\" type=\"checkbox\" ><label for=\"sk-estimator-id-38\" class=\"sk-toggleable__label sk-toggleable__label-arrow\">KNNImputer</label><div class=\"sk-toggleable__content\"><pre>KNNImputer()</pre></div></div></div><div class=\"sk-item sk-dashed-wrapped\"><div class=\"sk-label-container\"><div class=\"sk-label sk-toggleable\"><input class=\"sk-toggleable__control sk-hidden--visually\" id=\"sk-estimator-id-39\" type=\"checkbox\" ><label for=\"sk-estimator-id-39\" class=\"sk-toggleable__label sk-toggleable__label-arrow\">feature_selector: SelectFromModel</label><div class=\"sk-toggleable__content\"><pre>SelectFromModel(estimator=XGBRegressor(base_score=None, booster=None,\n",
       "                                       callbacks=None, colsample_bylevel=None,\n",
       "                                       colsample_bynode=None,\n",
       "                                       colsample_bytree=None, device=&#x27;gpu&#x27;,\n",
       "                                       early_stopping_rounds=None,\n",
       "                                       enable_categorical=False,\n",
       "                                       eval_metric=None, feature_types=None,\n",
       "                                       gamma=None, grow_policy=None,\n",
       "                                       importance_type=None,\n",
       "                                       interaction_constraints=None,\n",
       "                                       learning_rate=0.02, max_bin=None,\n",
       "                                       max_cat_threshold=None,\n",
       "                                       max_cat_to_onehot=None,\n",
       "                                       max_delta_step=None, max_depth=None,\n",
       "                                       max_leaves=None, min_child_weight=None,\n",
       "                                       missing=nan, monotone_constraints=None,\n",
       "                                       multi_strategy=None, n_estimators=1000,\n",
       "                                       n_jobs=None, num_parallel_tree=None,\n",
       "                                       random_state=42, ...))</pre></div></div></div><div class=\"sk-parallel\"><div class=\"sk-parallel-item\"><div class=\"sk-item\"><div class=\"sk-label-container\"><div class=\"sk-label sk-toggleable\"><input class=\"sk-toggleable__control sk-hidden--visually\" id=\"sk-estimator-id-40\" type=\"checkbox\" ><label for=\"sk-estimator-id-40\" class=\"sk-toggleable__label sk-toggleable__label-arrow\">estimator: XGBRegressor</label><div class=\"sk-toggleable__content\"><pre>XGBRegressor(base_score=None, booster=None, callbacks=None,\n",
       "             colsample_bylevel=None, colsample_bynode=None,\n",
       "             colsample_bytree=None, device=&#x27;gpu&#x27;, early_stopping_rounds=None,\n",
       "             enable_categorical=False, eval_metric=None, feature_types=None,\n",
       "             gamma=None, grow_policy=None, importance_type=None,\n",
       "             interaction_constraints=None, learning_rate=0.02, max_bin=None,\n",
       "             max_cat_threshold=None, max_cat_to_onehot=None,\n",
       "             max_delta_step=None, max_depth=None, max_leaves=None,\n",
       "             min_child_weight=None, missing=nan, monotone_constraints=None,\n",
       "             multi_strategy=None, n_estimators=1000, n_jobs=None,\n",
       "             num_parallel_tree=None, random_state=42, ...)</pre></div></div></div><div class=\"sk-serial\"><div class=\"sk-item\"><div class=\"sk-estimator sk-toggleable\"><input class=\"sk-toggleable__control sk-hidden--visually\" id=\"sk-estimator-id-41\" type=\"checkbox\" ><label for=\"sk-estimator-id-41\" class=\"sk-toggleable__label sk-toggleable__label-arrow\">XGBRegressor</label><div class=\"sk-toggleable__content\"><pre>XGBRegressor(base_score=None, booster=None, callbacks=None,\n",
       "             colsample_bylevel=None, colsample_bynode=None,\n",
       "             colsample_bytree=None, device=&#x27;gpu&#x27;, early_stopping_rounds=None,\n",
       "             enable_categorical=False, eval_metric=None, feature_types=None,\n",
       "             gamma=None, grow_policy=None, importance_type=None,\n",
       "             interaction_constraints=None, learning_rate=0.02, max_bin=None,\n",
       "             max_cat_threshold=None, max_cat_to_onehot=None,\n",
       "             max_delta_step=None, max_depth=None, max_leaves=None,\n",
       "             min_child_weight=None, missing=nan, monotone_constraints=None,\n",
       "             multi_strategy=None, n_estimators=1000, n_jobs=None,\n",
       "             num_parallel_tree=None, random_state=42, ...)</pre></div></div></div></div></div></div></div></div><div class=\"sk-item\"><div class=\"sk-estimator sk-toggleable\"><input class=\"sk-toggleable__control sk-hidden--visually\" id=\"sk-estimator-id-42\" type=\"checkbox\" ><label for=\"sk-estimator-id-42\" class=\"sk-toggleable__label sk-toggleable__label-arrow\">XGBRegressor</label><div class=\"sk-toggleable__content\"><pre>XGBRegressor(base_score=None, booster=None, callbacks=None,\n",
       "             colsample_bylevel=None, colsample_bynode=None,\n",
       "             colsample_bytree=None, device=&#x27;gpu&#x27;, early_stopping_rounds=None,\n",
       "             enable_categorical=False, eval_metric=None, feature_types=None,\n",
       "             gamma=None, grow_policy=None, importance_type=None,\n",
       "             interaction_constraints=None, learning_rate=0.005, max_bin=None,\n",
       "             max_cat_threshold=None, max_cat_to_onehot=None,\n",
       "             max_delta_step=None, max_depth=None, max_leaves=None,\n",
       "             min_child_weight=None, missing=nan, monotone_constraints=None,\n",
       "             multi_strategy=None, n_estimators=1000, n_jobs=None,\n",
       "             num_parallel_tree=None, random_state=None, ...)</pre></div></div></div></div></div></div></div>"
      ],
      "text/plain": [
       "Pipeline(steps=[('scaler', RobustScaler()), ('imputer', KNNImputer()),\n",
       "                ('feature_selector',\n",
       "                 SelectFromModel(estimator=XGBRegressor(base_score=None,\n",
       "                                                        booster=None,\n",
       "                                                        callbacks=None,\n",
       "                                                        colsample_bylevel=None,\n",
       "                                                        colsample_bynode=None,\n",
       "                                                        colsample_bytree=None,\n",
       "                                                        device='gpu',\n",
       "                                                        early_stopping_rounds=None,\n",
       "                                                        enable_categorical=False,\n",
       "                                                        eval_metric=None,\n",
       "                                                        feature_types=None,\n",
       "                                                        gamma=None,\n",
       "                                                        g...\n",
       "                              feature_types=None, gamma=None, grow_policy=None,\n",
       "                              importance_type=None,\n",
       "                              interaction_constraints=None, learning_rate=0.005,\n",
       "                              max_bin=None, max_cat_threshold=None,\n",
       "                              max_cat_to_onehot=None, max_delta_step=None,\n",
       "                              max_depth=None, max_leaves=None,\n",
       "                              min_child_weight=None, missing=nan,\n",
       "                              monotone_constraints=None, multi_strategy=None,\n",
       "                              n_estimators=1000, n_jobs=None,\n",
       "                              num_parallel_tree=None, random_state=None, ...))])"
      ]
     },
     "execution_count": 72,
     "metadata": {},
     "output_type": "execute_result"
    }
   ],
   "source": [
    "selector_model = XGBRegressor(\n",
    "    n_estimators = 1000,\n",
    "    learning_rate = 0.02,\n",
    "    random_state = 42,\n",
    "    device='gpu'\n",
    ")\n",
    "\n",
    "pipe = Pipeline([\n",
    "('scaler', preprocessing.RobustScaler())\n",
    ", ('imputer', KNNImputer())\n",
    ", ('feature_selector', SelectFromModel(selector_model))\n",
    ", ('regression_model', XGBRegressor())\n",
    "])\n",
    "\n",
    "pipe.set_params(\n",
    "    imputer__missing_values=np.nan, \n",
    "    imputer__n_neighbors=5,\n",
    "    regression_model__device=\"gpu\",\n",
    "    regression_model__n_estimators=1000,\n",
    "    regression_model__learning_rate=0.005,\n",
    "    regression_model__subsample=0.6\n",
    ")"
   ]
  },
  {
   "cell_type": "code",
   "execution_count": 73,
   "id": "1d2aefca-e330-4b74-9dec-19824f6c6987",
   "metadata": {},
   "outputs": [
    {
     "name": "stdout",
     "output_type": "stream",
     "text": [
      "Elapsed time 1.026 min\n"
     ]
    }
   ],
   "source": [
    "start_t = time()\n",
    "\n",
    "pipe.fit(X_train, np.array(y_train).ravel())\n",
    "\n",
    "print(f\"Elapsed time {round((time()-start_t)/60, 3)} min\")"
   ]
  },
  {
   "cell_type": "code",
   "execution_count": 75,
   "id": "b1acb047-65ad-4ae8-9be4-604315034c84",
   "metadata": {},
   "outputs": [
    {
     "name": "stdout",
     "output_type": "stream",
     "text": [
      "Training score 0.961\n",
      "Validation score 0.521\n"
     ]
    }
   ],
   "source": [
    "train_pred = pipe.predict(X_train)\n",
    "val_pred = pipe.predict(X_val)\n",
    "\n",
    "validation_score = round(r2_score(y_val, val_pred), 3)\n",
    "train_score = round(r2_score(y_train, train_pred), 3)\n",
    "print(f\"Training score {train_score}\")\n",
    "print(f\"Validation score {validation_score}\") # "
   ]
  },
  {
   "cell_type": "markdown",
   "id": "30f4ecc3-482f-4aa8-93fb-7f1cf0a4d88f",
   "metadata": {},
   "source": [
    "### 1.2) Tuning of hyperparameters of the optimal model"
   ]
  },
  {
   "cell_type": "markdown",
   "id": "9819cf82-345c-4148-a5a8-b12bbc9f4d1c",
   "metadata": {},
   "source": [
    "Goal: Find optimal hyperparameters of the optimal model found. "
   ]
  },
  {
   "cell_type": "code",
   "execution_count": 9,
   "id": "2c777e07-f6cc-4104-801e-bb9d88a7a912",
   "metadata": {
    "scrolled": true
   },
   "outputs": [
    {
     "name": "stdout",
     "output_type": "stream",
     "text": [
      "Elapsed time 88.821 min\n"
     ]
    }
   ],
   "source": [
    "# Rewrite preprocessing and model as a sklearn pipeline\n",
    "from sklearn.pipeline import Pipeline           \n",
    "from sklearn.model_selection import GridSearchCV\n",
    "from sklearn.feature_selection import SelectFromModel\n",
    "from time import time, sleep\n",
    "\n",
    "start_t = time()\n",
    "\n",
    "selector_model = XGBRegressor(\n",
    "    n_estimators = 1000,\n",
    "    learning_rate = 0.02,\n",
    "    random_state = 42\n",
    ")\n",
    "\n",
    "pipe = Pipeline([\n",
    "('scaler', preprocessing.RobustScaler())\n",
    ", ('imputer', KNNImputer())\n",
    ", ('feature_selector', SelectFromModel(selector_model))\n",
    ", ('regression_model', XGBRegressor())\n",
    "])\n",
    "\n",
    "pipe.set_params(\n",
    "    imputer__missing_values=np.nan, \n",
    "    imputer__n_neighbors=5,\n",
    "    regression_model__n_jobs=4\n",
    ")\n",
    "\n",
    "# Set grid / solution space\n",
    "parameters = {\n",
    "    'regression_model__n_estimators': [1000],\n",
    "    'regression_model__learning_rate': [0.005],\n",
    "    'regression_model__subsample': np.arange(0.45, 0.8, 0.03)\n",
    "}\n",
    "\n",
    "# Train grided model\n",
    "grided_model = GridSearchCV(pipe, parameters, scoring='r2', n_jobs=2, cv=5, return_train_score=True)\n",
    "grided_model.fit(X_train, np.array(y_train).ravel())\n",
    "\n",
    "print(f\"Elapsed time {round((time()-start_t)/60, 3)} min\")"
   ]
  },
  {
   "cell_type": "code",
   "execution_count": 10,
   "id": "fe462870-e078-4843-86db-c52666a6e8fc",
   "metadata": {},
   "outputs": [],
   "source": [
    "# Collect evaluation data into a data frame\n",
    "df_cv_results = pd.DataFrame(grided_model.cv_results_)\n",
    "df_model_params = df_cv_results.apply(lambda x: pd.Series(x[\"params\"]), axis=1)\n",
    "df_cv_results[df_model_params.columns] = df_model_params\n",
    "df_cv_results.sort_values(by=\"rank_test_score\", inplace=True)"
   ]
  },
  {
   "cell_type": "code",
   "execution_count": 11,
   "id": "181645ca-f92a-4ef8-a1dc-e1d891043705",
   "metadata": {
    "scrolled": true
   },
   "outputs": [
    {
     "data": {
      "text/plain": [
       "[{'regression_model__learning_rate': 0.005,\n",
       "  'regression_model__n_estimators': 1000,\n",
       "  'regression_model__subsample': 0.45},\n",
       " {'regression_model__learning_rate': 0.005,\n",
       "  'regression_model__n_estimators': 1000,\n",
       "  'regression_model__subsample': 0.48},\n",
       " {'regression_model__learning_rate': 0.005,\n",
       "  'regression_model__n_estimators': 1000,\n",
       "  'regression_model__subsample': 0.51},\n",
       " {'regression_model__learning_rate': 0.005,\n",
       "  'regression_model__n_estimators': 1000,\n",
       "  'regression_model__subsample': 0.5399999999999999},\n",
       " {'regression_model__learning_rate': 0.005,\n",
       "  'regression_model__n_estimators': 1000,\n",
       "  'regression_model__subsample': 0.5699999999999998},\n",
       " {'regression_model__learning_rate': 0.005,\n",
       "  'regression_model__n_estimators': 1000,\n",
       "  'regression_model__subsample': 0.5999999999999999},\n",
       " {'regression_model__learning_rate': 0.005,\n",
       "  'regression_model__n_estimators': 1000,\n",
       "  'regression_model__subsample': 0.6299999999999999},\n",
       " {'regression_model__learning_rate': 0.005,\n",
       "  'regression_model__n_estimators': 1000,\n",
       "  'regression_model__subsample': 0.6599999999999998},\n",
       " {'regression_model__learning_rate': 0.005,\n",
       "  'regression_model__n_estimators': 1000,\n",
       "  'regression_model__subsample': 0.6899999999999997},\n",
       " {'regression_model__learning_rate': 0.005,\n",
       "  'regression_model__n_estimators': 1000,\n",
       "  'regression_model__subsample': 0.7199999999999998},\n",
       " {'regression_model__learning_rate': 0.005,\n",
       "  'regression_model__n_estimators': 1000,\n",
       "  'regression_model__subsample': 0.7499999999999998},\n",
       " {'regression_model__learning_rate': 0.005,\n",
       "  'regression_model__n_estimators': 1000,\n",
       "  'regression_model__subsample': 0.7799999999999997}]"
      ]
     },
     "execution_count": 11,
     "metadata": {},
     "output_type": "execute_result"
    }
   ],
   "source": [
    "grided_model.cv_results_[\"params\"]"
   ]
  },
  {
   "cell_type": "code",
   "execution_count": 14,
   "id": "4f2220e6-8f5d-4b8d-a687-49eab2b175d8",
   "metadata": {},
   "outputs": [
    {
     "data": {
      "text/html": [
       "<div>\n",
       "<style scoped>\n",
       "    .dataframe tbody tr th:only-of-type {\n",
       "        vertical-align: middle;\n",
       "    }\n",
       "\n",
       "    .dataframe tbody tr th {\n",
       "        vertical-align: top;\n",
       "    }\n",
       "\n",
       "    .dataframe thead th {\n",
       "        text-align: right;\n",
       "    }\n",
       "</style>\n",
       "<table border=\"1\" class=\"dataframe\">\n",
       "  <thead>\n",
       "    <tr style=\"text-align: right;\">\n",
       "      <th></th>\n",
       "      <th>mean_test_score</th>\n",
       "      <th>mean_train_score</th>\n",
       "      <th>std_test_score</th>\n",
       "      <th>std_train_score</th>\n",
       "      <th>regression_model__subsample</th>\n",
       "    </tr>\n",
       "  </thead>\n",
       "  <tbody>\n",
       "    <tr>\n",
       "      <th>4</th>\n",
       "      <td>0.480683</td>\n",
       "      <td>0.964652</td>\n",
       "      <td>0.059363</td>\n",
       "      <td>0.003899</td>\n",
       "      <td>0.57</td>\n",
       "    </tr>\n",
       "    <tr>\n",
       "      <th>2</th>\n",
       "      <td>0.479166</td>\n",
       "      <td>0.955235</td>\n",
       "      <td>0.061878</td>\n",
       "      <td>0.004859</td>\n",
       "      <td>0.51</td>\n",
       "    </tr>\n",
       "    <tr>\n",
       "      <th>8</th>\n",
       "      <td>0.478978</td>\n",
       "      <td>0.976806</td>\n",
       "      <td>0.056329</td>\n",
       "      <td>0.003159</td>\n",
       "      <td>0.69</td>\n",
       "    </tr>\n",
       "    <tr>\n",
       "      <th>3</th>\n",
       "      <td>0.478814</td>\n",
       "      <td>0.960144</td>\n",
       "      <td>0.060180</td>\n",
       "      <td>0.004118</td>\n",
       "      <td>0.54</td>\n",
       "    </tr>\n",
       "    <tr>\n",
       "      <th>1</th>\n",
       "      <td>0.478322</td>\n",
       "      <td>0.950360</td>\n",
       "      <td>0.060638</td>\n",
       "      <td>0.005000</td>\n",
       "      <td>0.48</td>\n",
       "    </tr>\n",
       "    <tr>\n",
       "      <th>0</th>\n",
       "      <td>0.478090</td>\n",
       "      <td>0.944862</td>\n",
       "      <td>0.058547</td>\n",
       "      <td>0.004904</td>\n",
       "      <td>0.45</td>\n",
       "    </tr>\n",
       "    <tr>\n",
       "      <th>5</th>\n",
       "      <td>0.477049</td>\n",
       "      <td>0.968392</td>\n",
       "      <td>0.057791</td>\n",
       "      <td>0.003382</td>\n",
       "      <td>0.60</td>\n",
       "    </tr>\n",
       "    <tr>\n",
       "      <th>9</th>\n",
       "      <td>0.474589</td>\n",
       "      <td>0.979464</td>\n",
       "      <td>0.059028</td>\n",
       "      <td>0.002507</td>\n",
       "      <td>0.72</td>\n",
       "    </tr>\n",
       "    <tr>\n",
       "      <th>7</th>\n",
       "      <td>0.474308</td>\n",
       "      <td>0.974363</td>\n",
       "      <td>0.060862</td>\n",
       "      <td>0.003146</td>\n",
       "      <td>0.66</td>\n",
       "    </tr>\n",
       "    <tr>\n",
       "      <th>6</th>\n",
       "      <td>0.474151</td>\n",
       "      <td>0.971459</td>\n",
       "      <td>0.059302</td>\n",
       "      <td>0.003494</td>\n",
       "      <td>0.63</td>\n",
       "    </tr>\n",
       "    <tr>\n",
       "      <th>10</th>\n",
       "      <td>0.472762</td>\n",
       "      <td>0.981381</td>\n",
       "      <td>0.058538</td>\n",
       "      <td>0.002259</td>\n",
       "      <td>0.75</td>\n",
       "    </tr>\n",
       "    <tr>\n",
       "      <th>11</th>\n",
       "      <td>0.471161</td>\n",
       "      <td>0.983261</td>\n",
       "      <td>0.057266</td>\n",
       "      <td>0.002202</td>\n",
       "      <td>0.78</td>\n",
       "    </tr>\n",
       "  </tbody>\n",
       "</table>\n",
       "</div>"
      ],
      "text/plain": [
       "    mean_test_score  mean_train_score  std_test_score  std_train_score  \\\n",
       "4          0.480683          0.964652        0.059363         0.003899   \n",
       "2          0.479166          0.955235        0.061878         0.004859   \n",
       "8          0.478978          0.976806        0.056329         0.003159   \n",
       "3          0.478814          0.960144        0.060180         0.004118   \n",
       "1          0.478322          0.950360        0.060638         0.005000   \n",
       "0          0.478090          0.944862        0.058547         0.004904   \n",
       "5          0.477049          0.968392        0.057791         0.003382   \n",
       "9          0.474589          0.979464        0.059028         0.002507   \n",
       "7          0.474308          0.974363        0.060862         0.003146   \n",
       "6          0.474151          0.971459        0.059302         0.003494   \n",
       "10         0.472762          0.981381        0.058538         0.002259   \n",
       "11         0.471161          0.983261        0.057266         0.002202   \n",
       "\n",
       "    regression_model__subsample  \n",
       "4                          0.57  \n",
       "2                          0.51  \n",
       "8                          0.69  \n",
       "3                          0.54  \n",
       "1                          0.48  \n",
       "0                          0.45  \n",
       "5                          0.60  \n",
       "9                          0.72  \n",
       "7                          0.66  \n",
       "6                          0.63  \n",
       "10                         0.75  \n",
       "11                         0.78  "
      ]
     },
     "execution_count": 14,
     "metadata": {},
     "output_type": "execute_result"
    }
   ],
   "source": [
    "df_cv_results[[\n",
    "    'mean_test_score', \n",
    "    'mean_train_score', \n",
    "    'std_test_score',\n",
    "    'std_train_score',\n",
    "    #'regression_model__max_depth',\n",
    "    #, 'feature_selector__threshold'\n",
    "    #, 'regression_model__n_estimators'\n",
    "    #, 'feature_selector__threshold'\n",
    "    #, 'regression_model__max_features'\n",
    "    'regression_model__subsample',\n",
    "    #, 'regression_model__learning_rate'\n",
    "]]"
   ]
  },
  {
   "cell_type": "code",
   "execution_count": 25,
   "id": "1aa6e12a-a550-4cc1-a93a-d199f8414b2c",
   "metadata": {},
   "outputs": [
    {
     "data": {
      "text/plain": [
       "mean_test_score                       0.475099\n",
       "mean_train_score                      0.684808\n",
       "std_test_score                        0.049023\n",
       "std_train_score                       0.008239\n",
       "regression_model__n_estimators     1000.000000\n",
       "regression_model__max_depth           2.000000\n",
       "regression_model__subsample           0.600000\n",
       "regression_model__learning_rate       0.005000\n",
       "Name: 1, dtype: float64"
      ]
     },
     "execution_count": 25,
     "metadata": {},
     "output_type": "execute_result"
    }
   ],
   "source": [
    "df_cv_results[[\n",
    "    'mean_test_score', \n",
    "    'mean_train_score', \n",
    "    'std_test_score',\n",
    "    'std_train_score',\n",
    "    'regression_model__n_estimators',\n",
    "    'regression_model__max_depth',\n",
    "    'regression_model__subsample',\n",
    "    'regression_model__learning_rate'\n",
    "]].loc[1]"
   ]
  },
  {
   "cell_type": "code",
   "execution_count": 15,
   "id": "39d089b6-677b-4441-855c-e98f100faaff",
   "metadata": {},
   "outputs": [
    {
     "data": {
      "image/png": "[encoded data removed]",
      "text/plain": [
       "<Figure size 640x480 with 1 Axes>"
      ]
     },
     "metadata": {},
     "output_type": "display_data"
    }
   ],
   "source": [
    "sns.lineplot(data=df_cv_results, x= 'regression_model__subsample', y='mean_test_score');"
   ]
  },
  {
   "cell_type": "code",
   "execution_count": 16,
   "id": "76262fc7-24ce-4995-bbda-cfb2400c7098",
   "metadata": {},
   "outputs": [
    {
     "data": {
      "text/plain": [
       "<Axes: xlabel='regression_model__subsample', ylabel='mean_train_score'>"
      ]
     },
     "execution_count": 16,
     "metadata": {},
     "output_type": "execute_result"
    },
    {
     "data": {
      "image/png": "[encoded data removed]",
      "text/plain": [
       "<Figure size 640x480 with 1 Axes>"
      ]
     },
     "metadata": {},
     "output_type": "display_data"
    }
   ],
   "source": [
    "sns.lineplot(data=df_cv_results, x= 'regression_model__subsample', y='mean_train_score')"
   ]
  },
  {
   "cell_type": "code",
   "execution_count": 29,
   "id": "bda37b51-b68b-4e7d-9139-2743a644e467",
   "metadata": {},
   "outputs": [
    {
     "name": "stdout",
     "output_type": "stream",
     "text": [
      "Training score 0.872\n",
      "Validation score 0.539\n"
     ]
    }
   ],
   "source": [
    "train_pred = grided_model.predict(X_train)\n",
    "val_pred = grided_model.predict(X_val)\n",
    "\n",
    "validation_score = round(r2_score(y_val, val_pred), 3)\n",
    "train_score = round(r2_score(y_train, train_pred), 3)\n",
    "print(f\"Training score {train_score}\")\n",
    "print(f\"Validation score {validation_score}\") # "
   ]
  },
  {
   "cell_type": "markdown",
   "id": "4c8f617f-ce51-4dcf-aedf-2170e254d638",
   "metadata": {},
   "source": [
    "## 2) Model testing"
   ]
  },
  {
   "cell_type": "markdown",
   "id": "dc886e04-3e2d-4462-838c-db550341be48",
   "metadata": {},
   "source": [
    "In the previous step, an optimal model with its hyperparameters is found. Now we want to derive testing / evaluation metrics to compare it with other previously optimal models. "
   ]
  },
  {
   "cell_type": "markdown",
   "id": "0ea04c44-1339-4af0-bc36-1a00e58df080",
   "metadata": {},
   "source": [
    "### 25-Fold CV"
   ]
  },
  {
   "cell_type": "code",
   "execution_count": 30,
   "id": "a73b0153-d077-436d-ba20-468db750381c",
   "metadata": {},
   "outputs": [
    {
     "name": "stderr",
     "output_type": "stream",
     "text": [
      "/home/bjn/PycharmProjects/predicting_age/venv/lib/python3.10/site-packages/xgboost/core.py:160: UserWarning: [11:47:40] WARNING: /workspace/src/common/error_msg.cc:58: Falling back to prediction using DMatrix due to mismatched devices. This might lead to higher memory usage and slower performance. XGBoost is running on: cuda:0, while the input data is on: cpu.\n",
      "Potential solutions:\n",
      "- Use a data structure that matches the device ordinal in the booster.\n",
      "- Set the device for booster before call to inplace_predict.\n",
      "\n",
      "This warning will only be shown once.\n",
      "\n",
      "  warnings.warn(smsg, UserWarning)\n"
     ]
    },
    {
     "name": "stdout",
     "output_type": "stream",
     "text": [
      "Elapsed time 44.4 min\n"
     ]
    }
   ],
   "source": [
    "from sklearn.pipeline import Pipeline           \n",
    "from sklearn.model_selection import GridSearchCV\n",
    "from sklearn.ensemble import GradientBoostingRegressor\n",
    "from sklearn.feature_selection import SelectFromModel\n",
    "from time import time, sleep\n",
    "\n",
    "start_t = time()\n",
    "\n",
    "selector_model = XGBRegressor(\n",
    "    n_estimators = 1000,\n",
    "    learning_rate = 0.02,\n",
    "    random_state = 42\n",
    ")\n",
    "\n",
    "pipe = Pipeline([\n",
    "('scaler', preprocessing.RobustScaler())\n",
    ", ('imputer', KNNImputer())\n",
    ", ('feature_selector', SelectFromModel(selector_model))\n",
    ", ('regression_model', XGBRegressor())\n",
    "])\n",
    "\n",
    "pipe.set_params(\n",
    "    imputer__missing_values=np.nan, \n",
    "    imputer__n_neighbors=5,\n",
    "    regression_model__device=\"gpu\"\n",
    ")\n",
    "\n",
    "# Set grid / solution space\n",
    "parameters = {\n",
    "    'regression_model__n_estimators': [1000],\n",
    "    'regression_model__learning_rate': [0.005],\n",
    "    'regression_model__subsample': [0.6],\n",
    "    'regression_model__max_depth': [4]\n",
    "\n",
    "}\n",
    "\n",
    "# Train grided model\n",
    "grided_model = GridSearchCV(pipe, parameters, scoring='r2', cv=25, return_train_score=True)\n",
    "grided_model.fit(df_x_train, np.array(df_y_train).ravel())\n",
    "\n",
    "print(f\"Elapsed time {round((time()-start_t)/60, 3)} min\")"
   ]
  },
  {
   "cell_type": "code",
   "execution_count": 31,
   "id": "655990bb-f87f-4a4d-bf94-59eff1f243ab",
   "metadata": {},
   "outputs": [],
   "source": [
    "# Collect evaluation data into a data frame\n",
    "df_cv_results = pd.DataFrame(grided_model.cv_results_)\n",
    "df_model_params = df_cv_results.apply(lambda x: pd.Series(x[\"params\"]), axis=1)\n",
    "df_cv_results[df_model_params.columns] = df_model_params\n",
    "df_cv_results.sort_values(by=\"rank_test_score\", inplace=True)"
   ]
  },
  {
   "cell_type": "code",
   "execution_count": 32,
   "id": "c6f365cb-c85f-44b2-bd88-21ef53216995",
   "metadata": {},
   "outputs": [
    {
     "data": {
      "text/plain": [
       "Index(['mean_fit_time', 'std_fit_time', 'mean_score_time', 'std_score_time',\n",
       "       'param_regression_model__learning_rate',\n",
       "       'param_regression_model__max_depth',\n",
       "       'param_regression_model__n_estimators',\n",
       "       'param_regression_model__subsample', 'params', 'split0_test_score',\n",
       "       'split1_test_score', 'split2_test_score', 'split3_test_score',\n",
       "       'split4_test_score', 'split5_test_score', 'split6_test_score',\n",
       "       'split7_test_score', 'split8_test_score', 'split9_test_score',\n",
       "       'split10_test_score', 'split11_test_score', 'split12_test_score',\n",
       "       'split13_test_score', 'split14_test_score', 'split15_test_score',\n",
       "       'split16_test_score', 'split17_test_score', 'split18_test_score',\n",
       "       'split19_test_score', 'split20_test_score', 'split21_test_score',\n",
       "       'split22_test_score', 'split23_test_score', 'split24_test_score',\n",
       "       'mean_test_score', 'std_test_score', 'rank_test_score',\n",
       "       'split0_train_score', 'split1_train_score', 'split2_train_score',\n",
       "       'split3_train_score', 'split4_train_score', 'split5_train_score',\n",
       "       'split6_train_score', 'split7_train_score', 'split8_train_score',\n",
       "       'split9_train_score', 'split10_train_score', 'split11_train_score',\n",
       "       'split12_train_score', 'split13_train_score', 'split14_train_score',\n",
       "       'split15_train_score', 'split16_train_score', 'split17_train_score',\n",
       "       'split18_train_score', 'split19_train_score', 'split20_train_score',\n",
       "       'split21_train_score', 'split22_train_score', 'split23_train_score',\n",
       "       'split24_train_score', 'mean_train_score', 'std_train_score',\n",
       "       'regression_model__learning_rate', 'regression_model__max_depth',\n",
       "       'regression_model__n_estimators', 'regression_model__subsample'],\n",
       "      dtype='object')"
      ]
     },
     "execution_count": 32,
     "metadata": {},
     "output_type": "execute_result"
    }
   ],
   "source": [
    "df_cv_results.columns"
   ]
  },
  {
   "cell_type": "code",
   "execution_count": 33,
   "id": "1843e9d7-f524-4837-93c1-6348ee33ec0f",
   "metadata": {},
   "outputs": [
    {
     "data": {
      "text/plain": [
       "[{'regression_model__learning_rate': 0.005,\n",
       "  'regression_model__max_depth': 4,\n",
       "  'regression_model__n_estimators': 1000,\n",
       "  'regression_model__subsample': 0.6}]"
      ]
     },
     "execution_count": 33,
     "metadata": {},
     "output_type": "execute_result"
    }
   ],
   "source": [
    "grided_model.cv_results_[\"params\"]"
   ]
  },
  {
   "cell_type": "code",
   "execution_count": 34,
   "id": "3797b11c-43c0-444d-b085-f561ee1a39f9",
   "metadata": {
    "scrolled": true
   },
   "outputs": [
    {
     "data": {
      "text/html": [
       "<div>\n",
       "<style scoped>\n",
       "    .dataframe tbody tr th:only-of-type {\n",
       "        vertical-align: middle;\n",
       "    }\n",
       "\n",
       "    .dataframe tbody tr th {\n",
       "        vertical-align: top;\n",
       "    }\n",
       "\n",
       "    .dataframe thead th {\n",
       "        text-align: right;\n",
       "    }\n",
       "</style>\n",
       "<table border=\"1\" class=\"dataframe\">\n",
       "  <thead>\n",
       "    <tr style=\"text-align: right;\">\n",
       "      <th></th>\n",
       "      <th>mean_test_score</th>\n",
       "      <th>mean_train_score</th>\n",
       "      <th>std_test_score</th>\n",
       "      <th>std_train_score</th>\n",
       "      <th>mean_fit_time</th>\n",
       "      <th>std_fit_time</th>\n",
       "    </tr>\n",
       "  </thead>\n",
       "  <tbody>\n",
       "    <tr>\n",
       "      <th>0</th>\n",
       "      <td>0.50769</td>\n",
       "      <td>0.841051</td>\n",
       "      <td>0.123177</td>\n",
       "      <td>0.002923</td>\n",
       "      <td>99.71119</td>\n",
       "      <td>1.962166</td>\n",
       "    </tr>\n",
       "  </tbody>\n",
       "</table>\n",
       "</div>"
      ],
      "text/plain": [
       "   mean_test_score  mean_train_score  std_test_score  std_train_score  \\\n",
       "0          0.50769          0.841051        0.123177         0.002923   \n",
       "\n",
       "   mean_fit_time  std_fit_time  \n",
       "0       99.71119      1.962166  "
      ]
     },
     "execution_count": 34,
     "metadata": {},
     "output_type": "execute_result"
    }
   ],
   "source": [
    "df_cv_results[[\n",
    "    'mean_test_score', \n",
    "    'mean_train_score', \n",
    "    'std_test_score',\n",
    "    'std_train_score',\n",
    "    'mean_fit_time', \n",
    "    'std_fit_time'\n",
    "]]"
   ]
  },
  {
   "cell_type": "code",
   "execution_count": 46,
   "id": "507243ac-472f-4ff5-a3df-f563a334801f",
   "metadata": {},
   "outputs": [
    {
     "name": "stdout",
     "output_type": "stream",
     "text": [
      "Elapsed time 1.814 min\n"
     ]
    }
   ],
   "source": [
    "start_t = time()\n",
    "pipe.fit(X_train, np.array(y_train).ravel())\n",
    "print(f\"Elapsed time {round((time()-start_t)/60, 3)} min\")"
   ]
  },
  {
   "cell_type": "code",
   "execution_count": 48,
   "id": "77b4545b-2032-40a4-833f-88f790564084",
   "metadata": {},
   "outputs": [
    {
     "data": {
      "text/plain": [
       "(875, 234)"
      ]
     },
     "execution_count": 48,
     "metadata": {},
     "output_type": "execute_result"
    }
   ],
   "source": [
    "pipe.transform(X_train).shape"
   ]
  },
  {
   "cell_type": "code",
   "execution_count": 44,
   "id": "ad56a45d-1b4d-4c57-8e07-504a80f93bb0",
   "metadata": {},
   "outputs": [
    {
     "name": "stdout",
     "output_type": "stream",
     "text": [
      "Training score 0.953\n",
      "Validation score 0.537\n"
     ]
    }
   ],
   "source": [
    "train_pred = pipe.predict(X_train)\n",
    "val_pred = pipe.predict(X_val)\n",
    "\n",
    "validation_score = round(r2_score(y_val, val_pred), 3)\n",
    "train_score = round(r2_score(y_train, train_pred), 3)\n",
    "print(f\"Training score {train_score}\")\n",
    "print(f\"Validation score {validation_score}\") # "
   ]
  },
  {
   "cell_type": "markdown",
   "id": "07569f82-8d59-4d2d-b961-08dee214640c",
   "metadata": {},
   "source": [
    "## 3) Make predictions"
   ]
  },
  {
   "cell_type": "markdown",
   "id": "c6eed757-ab79-468c-94b4-d1f294270bfb",
   "metadata": {},
   "source": [
    "In the previous steps, the final model with its optimal hyperparameters is found. Now we train this model on the entire training data and make predictions for the submission. "
   ]
  },
  {
   "cell_type": "code",
   "execution_count": 35,
   "id": "65680e87-fab9-4d30-b8c6-0dde329c15c4",
   "metadata": {},
   "outputs": [
    {
     "name": "stdout",
     "output_type": "stream",
     "text": [
      "Elapsed time 1.746 min\n"
     ]
    }
   ],
   "source": [
    "from sklearn.pipeline import Pipeline           \n",
    "from sklearn.model_selection import GridSearchCV\n",
    "from sklearn.feature_selection import SelectFromModel\n",
    "from time import time, sleep\n",
    "\n",
    "start_t = time()\n",
    "\n",
    "selector_model = XGBRegressor(\n",
    "    n_estimators = 1000,\n",
    "    learning_rate = 0.02,\n",
    "    random_state = 42\n",
    ")\n",
    "\n",
    "pipe = Pipeline([\n",
    "('scaler', preprocessing.RobustScaler())\n",
    ", ('imputer', KNNImputer())\n",
    ", ('feature_selector', SelectFromModel(selector_model))\n",
    ", ('regression_model', XGBRegressor())\n",
    "])\n",
    "\n",
    "pipe.set_params(\n",
    "    imputer__missing_values=np.nan, \n",
    "    imputer__n_neighbors=5,\n",
    "    regression_model__device=\"gpu\",\n",
    "    regression_model__n_estimators=1000,\n",
    "    regression_model__learning_rate=0.005,\n",
    "    regression_model__subsample=0.6,\n",
    ")\n",
    "\n",
    "# Train grided model\n",
    "pipe.fit(df_x_train, np.array(df_y_train).ravel())\n",
    "\n",
    "print(f\"Elapsed time {round((time()-start_t)/60, 3)} min\")"
   ]
  },
  {
   "cell_type": "code",
   "execution_count": 36,
   "id": "b431e2e8-aa29-4737-ae82-7ea13bd1d79c",
   "metadata": {},
   "outputs": [
    {
     "name": "stdout",
     "output_type": "stream",
     "text": [
      "Read data from ../data/sample.csv\n"
     ]
    }
   ],
   "source": [
    "df_sample = read_csv(\"sample.csv\", \"../data/\")"
   ]
  },
  {
   "cell_type": "code",
   "execution_count": 37,
   "id": "7d86728c-157f-4cad-893d-f95094e1c391",
   "metadata": {},
   "outputs": [
    {
     "data": {
      "text/html": [
       "<div>\n",
       "<style scoped>\n",
       "    .dataframe tbody tr th:only-of-type {\n",
       "        vertical-align: middle;\n",
       "    }\n",
       "\n",
       "    .dataframe tbody tr th {\n",
       "        vertical-align: top;\n",
       "    }\n",
       "\n",
       "    .dataframe thead th {\n",
       "        text-align: right;\n",
       "    }\n",
       "</style>\n",
       "<table border=\"1\" class=\"dataframe\">\n",
       "  <thead>\n",
       "    <tr style=\"text-align: right;\">\n",
       "      <th></th>\n",
       "      <th>id</th>\n",
       "      <th>y</th>\n",
       "    </tr>\n",
       "  </thead>\n",
       "  <tbody>\n",
       "    <tr>\n",
       "      <th>0</th>\n",
       "      <td>0.0</td>\n",
       "      <td>69.889439</td>\n",
       "    </tr>\n",
       "    <tr>\n",
       "      <th>1</th>\n",
       "      <td>1.0</td>\n",
       "      <td>69.889439</td>\n",
       "    </tr>\n",
       "    <tr>\n",
       "      <th>2</th>\n",
       "      <td>2.0</td>\n",
       "      <td>69.889439</td>\n",
       "    </tr>\n",
       "    <tr>\n",
       "      <th>3</th>\n",
       "      <td>3.0</td>\n",
       "      <td>69.889439</td>\n",
       "    </tr>\n",
       "    <tr>\n",
       "      <th>4</th>\n",
       "      <td>4.0</td>\n",
       "      <td>69.889439</td>\n",
       "    </tr>\n",
       "  </tbody>\n",
       "</table>\n",
       "</div>"
      ],
      "text/plain": [
       "    id          y\n",
       "0  0.0  69.889439\n",
       "1  1.0  69.889439\n",
       "2  2.0  69.889439\n",
       "3  3.0  69.889439\n",
       "4  4.0  69.889439"
      ]
     },
     "execution_count": 37,
     "metadata": {},
     "output_type": "execute_result"
    }
   ],
   "source": [
    "df_sample.head()"
   ]
  },
  {
   "cell_type": "code",
   "execution_count": 38,
   "id": "a7194229-2451-460e-a2eb-c2f23f255b33",
   "metadata": {},
   "outputs": [
    {
     "name": "stdout",
     "output_type": "stream",
     "text": [
      "Read data from ../data/X_test.csv\n"
     ]
    }
   ],
   "source": [
    "df_x_test = read_csv(\"X_test.csv\", \"../data/\").drop(columns=\"id\")"
   ]
  },
  {
   "cell_type": "code",
   "execution_count": 39,
   "id": "c80ab67a-7788-454d-945e-6c6ecfcc8769",
   "metadata": {},
   "outputs": [],
   "source": [
    "df_sample['y'] = pipe.predict(df_x_test)"
   ]
  },
  {
   "cell_type": "code",
   "execution_count": 40,
   "id": "c4405de6-60ac-40f4-bab4-63abdf5f4447",
   "metadata": {},
   "outputs": [
    {
     "data": {
      "text/html": [
       "<div>\n",
       "<style scoped>\n",
       "    .dataframe tbody tr th:only-of-type {\n",
       "        vertical-align: middle;\n",
       "    }\n",
       "\n",
       "    .dataframe tbody tr th {\n",
       "        vertical-align: top;\n",
       "    }\n",
       "\n",
       "    .dataframe thead th {\n",
       "        text-align: right;\n",
       "    }\n",
       "</style>\n",
       "<table border=\"1\" class=\"dataframe\">\n",
       "  <thead>\n",
       "    <tr style=\"text-align: right;\">\n",
       "      <th></th>\n",
       "      <th>id</th>\n",
       "      <th>y</th>\n",
       "    </tr>\n",
       "  </thead>\n",
       "  <tbody>\n",
       "    <tr>\n",
       "      <th>0</th>\n",
       "      <td>0.0</td>\n",
       "      <td>60.761215</td>\n",
       "    </tr>\n",
       "    <tr>\n",
       "      <th>1</th>\n",
       "      <td>1.0</td>\n",
       "      <td>76.611221</td>\n",
       "    </tr>\n",
       "    <tr>\n",
       "      <th>2</th>\n",
       "      <td>2.0</td>\n",
       "      <td>70.259369</td>\n",
       "    </tr>\n",
       "    <tr>\n",
       "      <th>3</th>\n",
       "      <td>3.0</td>\n",
       "      <td>72.860672</td>\n",
       "    </tr>\n",
       "    <tr>\n",
       "      <th>4</th>\n",
       "      <td>4.0</td>\n",
       "      <td>74.182205</td>\n",
       "    </tr>\n",
       "  </tbody>\n",
       "</table>\n",
       "</div>"
      ],
      "text/plain": [
       "    id          y\n",
       "0  0.0  60.761215\n",
       "1  1.0  76.611221\n",
       "2  2.0  70.259369\n",
       "3  3.0  72.860672\n",
       "4  4.0  74.182205"
      ]
     },
     "execution_count": 40,
     "metadata": {},
     "output_type": "execute_result"
    }
   ],
   "source": [
    "df_sample.head()"
   ]
  },
  {
   "cell_type": "code",
   "execution_count": 41,
   "id": "a0275d25-cf69-4dac-8683-254e8e33e304",
   "metadata": {},
   "outputs": [],
   "source": [
    "df_sample.to_csv(\"../data/df_predictions.csv\", index=False)"
   ]
  }
 ],
 "metadata": {
  "kernelspec": {
   "display_name": "Python 3 (ipykernel)",
   "language": "python",
   "name": "python3"
  },
  "language_info": {
   "codemirror_mode": {
    "name": "ipython",
    "version": 3
   },
   "file_extension": ".py",
   "mimetype": "text/x-python",
   "name": "python",
   "nbconvert_exporter": "python",
   "pygments_lexer": "ipython3",
   "version": "3.10.12"
  }
 },
 "nbformat": 4,
 "nbformat_minor": 5
}
