{
 "cells": [
  {
   "cell_type": "code",
   "execution_count": 7,
   "id": "initial_id",
   "metadata": {},
   "outputs": [],
   "source": [
    "import sys\n",
    "sys.path.append(\"../src\")\n",
    "\n",
    "%matplotlib inline\n",
    "import numpy as np\n",
    "import matplotlib.pyplot as plt\n",
    "import seaborn as sns; sns.set()\n",
    "import numpy as np\n",
    "import pandas as pd\n",
    "from sklearn.metrics import r2_score\n",
    "import umap\n",
    "from sklearn.model_selection import train_test_split\n",
    "\n",
    "from lib.pipeline import get_preprocessors, reduce_dimension, detect_outliers\n",
    "\n",
    "from lib.i_o import read_csv"
   ]
  },
  {
   "cell_type": "markdown",
   "id": "e1ec1b2e-e6ee-4d71-bbbc-0873590aa9b6",
   "metadata": {},
   "source": [
    "## Read data"
   ]
  },
  {
   "cell_type": "code",
   "execution_count": 8,
   "id": "317957d3-b980-4440-ae63-997129f289d6",
   "metadata": {},
   "outputs": [
    {
     "name": "stdout",
     "output_type": "stream",
     "text": [
      "Read data from ../data/X_train.csv\n",
      "Read data from ../data/y_train.csv\n"
     ]
    }
   ],
   "source": [
    "df_x_train = read_csv(\"X_train.csv\", \"../data/\").drop(columns=\"id\")\n",
    "df_y_train = read_csv(\"y_train.csv\", \"../data/\").drop(columns=\"id\")"
   ]
  },
  {
   "cell_type": "code",
   "execution_count": 9,
   "id": "4b220308-ca64-470b-a710-2cd6a0d32d0f",
   "metadata": {},
   "outputs": [
    {
     "data": {
      "text/html": [
       "<div>\n",
       "<style scoped>\n",
       "    .dataframe tbody tr th:only-of-type {\n",
       "        vertical-align: middle;\n",
       "    }\n",
       "\n",
       "    .dataframe tbody tr th {\n",
       "        vertical-align: top;\n",
       "    }\n",
       "\n",
       "    .dataframe thead th {\n",
       "        text-align: right;\n",
       "    }\n",
       "</style>\n",
       "<table border=\"1\" class=\"dataframe\">\n",
       "  <thead>\n",
       "    <tr style=\"text-align: right;\">\n",
       "      <th></th>\n",
       "      <th>x0</th>\n",
       "      <th>x1</th>\n",
       "      <th>x2</th>\n",
       "      <th>x3</th>\n",
       "      <th>x4</th>\n",
       "      <th>x5</th>\n",
       "      <th>x6</th>\n",
       "      <th>x7</th>\n",
       "      <th>x8</th>\n",
       "      <th>x9</th>\n",
       "      <th>...</th>\n",
       "      <th>x822</th>\n",
       "      <th>x823</th>\n",
       "      <th>x824</th>\n",
       "      <th>x825</th>\n",
       "      <th>x826</th>\n",
       "      <th>x827</th>\n",
       "      <th>x828</th>\n",
       "      <th>x829</th>\n",
       "      <th>x830</th>\n",
       "      <th>x831</th>\n",
       "    </tr>\n",
       "  </thead>\n",
       "  <tbody>\n",
       "    <tr>\n",
       "      <th>0</th>\n",
       "      <td>14168.823171</td>\n",
       "      <td>10514.380717</td>\n",
       "      <td>3316.149698</td>\n",
       "      <td>94230.695124</td>\n",
       "      <td>102.386606</td>\n",
       "      <td>92.677127</td>\n",
       "      <td>11108.748199</td>\n",
       "      <td>10866.505510</td>\n",
       "      <td>10837.622093</td>\n",
       "      <td>10.227734</td>\n",
       "      <td>...</td>\n",
       "      <td>NaN</td>\n",
       "      <td>12352.094085</td>\n",
       "      <td>846.014651</td>\n",
       "      <td>105.132144</td>\n",
       "      <td>102.112809</td>\n",
       "      <td>2090.004260</td>\n",
       "      <td>2.691845</td>\n",
       "      <td>1234.374109</td>\n",
       "      <td>1000.784475</td>\n",
       "      <td>9285.751272</td>\n",
       "    </tr>\n",
       "    <tr>\n",
       "      <th>1</th>\n",
       "      <td>17757.037554</td>\n",
       "      <td>NaN</td>\n",
       "      <td>4101.016273</td>\n",
       "      <td>92959.527633</td>\n",
       "      <td>NaN</td>\n",
       "      <td>99.855168</td>\n",
       "      <td>10013.959449</td>\n",
       "      <td>10826.607494</td>\n",
       "      <td>10076.101597</td>\n",
       "      <td>11.436970</td>\n",
       "      <td>...</td>\n",
       "      <td>NaN</td>\n",
       "      <td>16198.071494</td>\n",
       "      <td>776.084467</td>\n",
       "      <td>106.385590</td>\n",
       "      <td>103.472030</td>\n",
       "      <td>2474.051881</td>\n",
       "      <td>2.287976</td>\n",
       "      <td>NaN</td>\n",
       "      <td>1012.626705</td>\n",
       "      <td>11750.284764</td>\n",
       "    </tr>\n",
       "    <tr>\n",
       "      <th>2</th>\n",
       "      <td>14226.656663</td>\n",
       "      <td>11029.642499</td>\n",
       "      <td>NaN</td>\n",
       "      <td>124055.600561</td>\n",
       "      <td>100.542483</td>\n",
       "      <td>92.860892</td>\n",
       "      <td>NaN</td>\n",
       "      <td>10492.342868</td>\n",
       "      <td>NaN</td>\n",
       "      <td>10.810076</td>\n",
       "      <td>...</td>\n",
       "      <td>10329.704431</td>\n",
       "      <td>13976.063780</td>\n",
       "      <td>737.040332</td>\n",
       "      <td>103.671234</td>\n",
       "      <td>109.458246</td>\n",
       "      <td>2656.083281</td>\n",
       "      <td>2.843706</td>\n",
       "      <td>888.353607</td>\n",
       "      <td>1048.810385</td>\n",
       "      <td>9553.922728</td>\n",
       "    </tr>\n",
       "    <tr>\n",
       "      <th>3</th>\n",
       "      <td>8766.012436</td>\n",
       "      <td>7384.202998</td>\n",
       "      <td>2147.308418</td>\n",
       "      <td>100157.719990</td>\n",
       "      <td>104.855061</td>\n",
       "      <td>101.929026</td>\n",
       "      <td>10050.049932</td>\n",
       "      <td>10499.521099</td>\n",
       "      <td>10525.030989</td>\n",
       "      <td>10.092109</td>\n",
       "      <td>...</td>\n",
       "      <td>10008.251395</td>\n",
       "      <td>6212.127347</td>\n",
       "      <td>329.044233</td>\n",
       "      <td>105.084488</td>\n",
       "      <td>104.858546</td>\n",
       "      <td>1097.785204</td>\n",
       "      <td>2.732257</td>\n",
       "      <td>927.752967</td>\n",
       "      <td>1048.357330</td>\n",
       "      <td>NaN</td>\n",
       "    </tr>\n",
       "    <tr>\n",
       "      <th>4</th>\n",
       "      <td>13801.016418</td>\n",
       "      <td>13269.493652</td>\n",
       "      <td>3408.316953</td>\n",
       "      <td>92048.527786</td>\n",
       "      <td>103.759758</td>\n",
       "      <td>95.789235</td>\n",
       "      <td>9667.353978</td>\n",
       "      <td>10750.783106</td>\n",
       "      <td>10618.800750</td>\n",
       "      <td>12.006773</td>\n",
       "      <td>...</td>\n",
       "      <td>10095.782015</td>\n",
       "      <td>13772.061493</td>\n",
       "      <td>NaN</td>\n",
       "      <td>NaN</td>\n",
       "      <td>100.369834</td>\n",
       "      <td>2693.053231</td>\n",
       "      <td>2.702908</td>\n",
       "      <td>1471.354073</td>\n",
       "      <td>1071.284484</td>\n",
       "      <td>9423.533063</td>\n",
       "    </tr>\n",
       "  </tbody>\n",
       "</table>\n",
       "<p>5 rows × 832 columns</p>\n",
       "</div>"
      ],
      "text/plain": [
       "             x0            x1           x2             x3          x4  \\\n",
       "0  14168.823171  10514.380717  3316.149698   94230.695124  102.386606   \n",
       "1  17757.037554           NaN  4101.016273   92959.527633         NaN   \n",
       "2  14226.656663  11029.642499          NaN  124055.600561  100.542483   \n",
       "3   8766.012436   7384.202998  2147.308418  100157.719990  104.855061   \n",
       "4  13801.016418  13269.493652  3408.316953   92048.527786  103.759758   \n",
       "\n",
       "           x5            x6            x7            x8         x9  ...  \\\n",
       "0   92.677127  11108.748199  10866.505510  10837.622093  10.227734  ...   \n",
       "1   99.855168  10013.959449  10826.607494  10076.101597  11.436970  ...   \n",
       "2   92.860892           NaN  10492.342868           NaN  10.810076  ...   \n",
       "3  101.929026  10050.049932  10499.521099  10525.030989  10.092109  ...   \n",
       "4   95.789235   9667.353978  10750.783106  10618.800750  12.006773  ...   \n",
       "\n",
       "           x822          x823        x824        x825        x826  \\\n",
       "0           NaN  12352.094085  846.014651  105.132144  102.112809   \n",
       "1           NaN  16198.071494  776.084467  106.385590  103.472030   \n",
       "2  10329.704431  13976.063780  737.040332  103.671234  109.458246   \n",
       "3  10008.251395   6212.127347  329.044233  105.084488  104.858546   \n",
       "4  10095.782015  13772.061493         NaN         NaN  100.369834   \n",
       "\n",
       "          x827      x828         x829         x830          x831  \n",
       "0  2090.004260  2.691845  1234.374109  1000.784475   9285.751272  \n",
       "1  2474.051881  2.287976          NaN  1012.626705  11750.284764  \n",
       "2  2656.083281  2.843706   888.353607  1048.810385   9553.922728  \n",
       "3  1097.785204  2.732257   927.752967  1048.357330           NaN  \n",
       "4  2693.053231  2.702908  1471.354073  1071.284484   9423.533063  \n",
       "\n",
       "[5 rows x 832 columns]"
      ]
     },
     "execution_count": 9,
     "metadata": {},
     "output_type": "execute_result"
    }
   ],
   "source": [
    "df_x_train.head()"
   ]
  },
  {
   "cell_type": "code",
   "execution_count": 10,
   "id": "25690177-5c1b-4df4-ab2f-7daff306134a",
   "metadata": {},
   "outputs": [],
   "source": [
    "# Split the data\n",
    "X_train_val, X_test, y_train_val, y_test = train_test_split(df_x_train, df_y_train, test_size=0.15, random_state=1)\n",
    "X_train, X_val, y_train, y_val = train_test_split(X_train_val, y_train_val, test_size=0.15, random_state=1) "
   ]
  },
  {
   "cell_type": "code",
   "execution_count": 11,
   "id": "02c225af-1e45-4d49-b1d0-1f8c68a78b3d",
   "metadata": {},
   "outputs": [
    {
     "name": "stdout",
     "output_type": "stream",
     "text": [
      "#Features: 832\n",
      "#observations: 1212\n"
     ]
    }
   ],
   "source": [
    "print(f\"#Features: {df_x_train.shape[1]}\\n#observations: {df_x_train.shape[0]}\")"
   ]
  },
  {
   "cell_type": "markdown",
   "id": "30f4ecc3-482f-4aa8-93fb-7f1cf0a4d88f",
   "metadata": {},
   "source": [
    "## Model training"
   ]
  },
  {
   "cell_type": "code",
   "execution_count": 35,
   "id": "285ac47b-307b-4f67-a340-28c807d1cba4",
   "metadata": {},
   "outputs": [],
   "source": [
    "# subsample 0.7, n_estimators: 75, max_features 0.9"
   ]
  },
  {
   "cell_type": "code",
   "execution_count": null,
   "id": "2c777e07-f6cc-4104-801e-bb9d88a7a912",
   "metadata": {},
   "outputs": [],
   "source": [
    "# Rewrite preprocessing and model as a sklearn pipeline\n",
    "from sklearn.pipeline import Pipeline           \n",
    "from sklearn.model_selection import GridSearchCV\n",
    "from sklearn.ensemble import GradientBoostingRegressor\n",
    "from sklearn.feature_selection import SelectFromModel\n",
    "from time import time, sleep\n",
    "\n",
    "start_t = time()\n",
    "\n",
    "selector_model = GradientBoostingRegressor(\n",
    "    random_state=0,\n",
    "    n_estimators=70,\n",
    "    subsample=0.7,\n",
    "    max_features=0.9,\n",
    "    learning_rate=0.06\n",
    ")\n",
    "\n",
    "pipe = Pipeline([\n",
    "('scaler', preprocessing.RobustScaler()),\n",
    "('imputer', KNNImputer()),\n",
    "('feature_selector', SelectFromModel(selector_model)),\n",
    "('regression_model', GradientBoostingRegressor())\n",
    "])\n",
    "\n",
    "pipe.set_params(\n",
    "    imputer__missing_values=np.nan, \n",
    "    imputer__weights=\"distance\",\n",
    ")\n",
    "\n",
    "# Set grid / solution space\n",
    "n_max_features_range = [0.9] #np.arange(0.7, 0.98, 0.025)\n",
    "n_estim_range =  np.arange(30, 90, 5) # 50 - 90\n",
    "n_subsample_range = [0.91] #np.arange(0.6, 1, 0.01) #0.6 - 0.9\n",
    "learning_rate_range = np.arange(0.01, 0.2, 0.01)\n",
    "feature_sel_threshold_range = [str(x)+\"*mean\" for x in np.arange(1, 2.1, 0.05)]\n",
    "\n",
    "parameters = {\n",
    "    'regression_model__subsample': n_subsample_range\n",
    "    , 'feature_selector__threshold': feature_sel_threshold_range\n",
    "    , 'regression_model__n_estimators':n_estim_range\n",
    "    , 'regression_model__max_features': n_max_features_range\n",
    "    , 'regression_model__learning_rate': learning_rate_range\n",
    "}\n",
    "\n",
    "# Train grided model\n",
    "grided_model = GridSearchCV(pipe, parameters, scoring='r2', n_jobs=-1, cv=5, return_train_score=True)\n",
    "grided_model.fit(X_train, np.array(y_train).ravel())\n",
    "\n",
    "print(f\"Elapsed time {round((time()-start_t)/60, 3)} min\")"
   ]
  },
  {
   "cell_type": "code",
   "execution_count": 105,
   "id": "fe462870-e078-4843-86db-c52666a6e8fc",
   "metadata": {},
   "outputs": [],
   "source": [
    "# Collect evaluation data into a data frame\n",
    "df_cv_results = pd.DataFrame(grided_model.cv_results_)\n",
    "df_model_params = df_cv_results.apply(lambda x: pd.Series(x[\"params\"]), axis=1)\n",
    "df_cv_results[df_model_params.columns] = df_model_params\n",
    "df_cv_results.sort_values(by=\"rank_test_score\", inplace=True)"
   ]
  },
  {
   "cell_type": "code",
   "execution_count": 106,
   "id": "181645ca-f92a-4ef8-a1dc-e1d891043705",
   "metadata": {},
   "outputs": [
    {
     "data": {
      "text/plain": [
       "[{'feature_selector__threshold': '1.0*mean'},\n",
       " {'feature_selector__threshold': '1.05*mean'},\n",
       " {'feature_selector__threshold': '1.1*mean'},\n",
       " {'feature_selector__threshold': '1.1500000000000001*mean'},\n",
       " {'feature_selector__threshold': '1.2000000000000002*mean'},\n",
       " {'feature_selector__threshold': '1.2500000000000002*mean'},\n",
       " {'feature_selector__threshold': '1.3000000000000003*mean'},\n",
       " {'feature_selector__threshold': '1.3500000000000003*mean'},\n",
       " {'feature_selector__threshold': '1.4000000000000004*mean'},\n",
       " {'feature_selector__threshold': '1.4500000000000004*mean'},\n",
       " {'feature_selector__threshold': '1.5000000000000004*mean'},\n",
       " {'feature_selector__threshold': '1.5500000000000005*mean'},\n",
       " {'feature_selector__threshold': '1.6000000000000005*mean'},\n",
       " {'feature_selector__threshold': '1.6500000000000006*mean'},\n",
       " {'feature_selector__threshold': '1.7000000000000006*mean'},\n",
       " {'feature_selector__threshold': '1.7500000000000007*mean'},\n",
       " {'feature_selector__threshold': '1.8000000000000007*mean'},\n",
       " {'feature_selector__threshold': '1.8500000000000008*mean'},\n",
       " {'feature_selector__threshold': '1.9000000000000008*mean'},\n",
       " {'feature_selector__threshold': '1.9500000000000008*mean'},\n",
       " {'feature_selector__threshold': '2.000000000000001*mean'},\n",
       " {'feature_selector__threshold': '2.0500000000000007*mean'}]"
      ]
     },
     "execution_count": 106,
     "metadata": {},
     "output_type": "execute_result"
    }
   ],
   "source": [
    "grided_model.cv_results_[\"params\"]"
   ]
  },
  {
   "cell_type": "code",
   "execution_count": 107,
   "id": "4f2220e6-8f5d-4b8d-a687-49eab2b175d8",
   "metadata": {},
   "outputs": [
    {
     "ename": "KeyError",
     "evalue": "\"['regression_model__n_estimators'] not in index\"",
     "output_type": "error",
     "traceback": [
      "\u001b[0;31m---------------------------------------------------------------------------\u001b[0m",
      "\u001b[0;31mKeyError\u001b[0m                                  Traceback (most recent call last)",
      "\u001b[0;32m/tmp/ipykernel_6034/1970953123.py\u001b[0m in \u001b[0;36m<cell line: 1>\u001b[0;34m()\u001b[0m\n\u001b[0;32m----> 1\u001b[0;31m df_cv_results[[\n\u001b[0m\u001b[1;32m      2\u001b[0m     \u001b[0;34m'mean_test_score'\u001b[0m\u001b[0;34m,\u001b[0m\u001b[0;34m\u001b[0m\u001b[0;34m\u001b[0m\u001b[0m\n\u001b[1;32m      3\u001b[0m     \u001b[0;34m'mean_train_score'\u001b[0m\u001b[0;34m,\u001b[0m\u001b[0;34m\u001b[0m\u001b[0;34m\u001b[0m\u001b[0m\n\u001b[1;32m      4\u001b[0m     \u001b[0;34m'std_test_score'\u001b[0m\u001b[0;34m,\u001b[0m\u001b[0;34m\u001b[0m\u001b[0;34m\u001b[0m\u001b[0m\n\u001b[1;32m      5\u001b[0m     \u001b[0;34m'std_train_score'\u001b[0m\u001b[0;34m\u001b[0m\u001b[0;34m\u001b[0m\u001b[0m\n",
      "\u001b[0;32m~/PycharmProjects/predicting_age/venv/lib/python3.10/site-packages/pandas/core/frame.py\u001b[0m in \u001b[0;36m__getitem__\u001b[0;34m(self, key)\u001b[0m\n\u001b[1;32m   3462\u001b[0m             \u001b[0;32mif\u001b[0m \u001b[0mis_iterator\u001b[0m\u001b[0;34m(\u001b[0m\u001b[0mkey\u001b[0m\u001b[0;34m)\u001b[0m\u001b[0;34m:\u001b[0m\u001b[0;34m\u001b[0m\u001b[0;34m\u001b[0m\u001b[0m\n\u001b[1;32m   3463\u001b[0m                 \u001b[0mkey\u001b[0m \u001b[0;34m=\u001b[0m \u001b[0mlist\u001b[0m\u001b[0;34m(\u001b[0m\u001b[0mkey\u001b[0m\u001b[0;34m)\u001b[0m\u001b[0;34m\u001b[0m\u001b[0;34m\u001b[0m\u001b[0m\n\u001b[0;32m-> 3464\u001b[0;31m             \u001b[0mindexer\u001b[0m \u001b[0;34m=\u001b[0m \u001b[0mself\u001b[0m\u001b[0;34m.\u001b[0m\u001b[0mloc\u001b[0m\u001b[0;34m.\u001b[0m\u001b[0m_get_listlike_indexer\u001b[0m\u001b[0;34m(\u001b[0m\u001b[0mkey\u001b[0m\u001b[0;34m,\u001b[0m \u001b[0maxis\u001b[0m\u001b[0;34m=\u001b[0m\u001b[0;36m1\u001b[0m\u001b[0;34m)\u001b[0m\u001b[0;34m[\u001b[0m\u001b[0;36m1\u001b[0m\u001b[0;34m]\u001b[0m\u001b[0;34m\u001b[0m\u001b[0;34m\u001b[0m\u001b[0m\n\u001b[0m\u001b[1;32m   3465\u001b[0m \u001b[0;34m\u001b[0m\u001b[0m\n\u001b[1;32m   3466\u001b[0m         \u001b[0;31m# take() does not accept boolean indexers\u001b[0m\u001b[0;34m\u001b[0m\u001b[0;34m\u001b[0m\u001b[0m\n",
      "\u001b[0;32m~/PycharmProjects/predicting_age/venv/lib/python3.10/site-packages/pandas/core/indexing.py\u001b[0m in \u001b[0;36m_get_listlike_indexer\u001b[0;34m(self, key, axis)\u001b[0m\n\u001b[1;32m   1312\u001b[0m             \u001b[0mkeyarr\u001b[0m\u001b[0;34m,\u001b[0m \u001b[0mindexer\u001b[0m\u001b[0;34m,\u001b[0m \u001b[0mnew_indexer\u001b[0m \u001b[0;34m=\u001b[0m \u001b[0max\u001b[0m\u001b[0;34m.\u001b[0m\u001b[0m_reindex_non_unique\u001b[0m\u001b[0;34m(\u001b[0m\u001b[0mkeyarr\u001b[0m\u001b[0;34m)\u001b[0m\u001b[0;34m\u001b[0m\u001b[0;34m\u001b[0m\u001b[0m\n\u001b[1;32m   1313\u001b[0m \u001b[0;34m\u001b[0m\u001b[0m\n\u001b[0;32m-> 1314\u001b[0;31m         \u001b[0mself\u001b[0m\u001b[0;34m.\u001b[0m\u001b[0m_validate_read_indexer\u001b[0m\u001b[0;34m(\u001b[0m\u001b[0mkeyarr\u001b[0m\u001b[0;34m,\u001b[0m \u001b[0mindexer\u001b[0m\u001b[0;34m,\u001b[0m \u001b[0maxis\u001b[0m\u001b[0;34m)\u001b[0m\u001b[0;34m\u001b[0m\u001b[0;34m\u001b[0m\u001b[0m\n\u001b[0m\u001b[1;32m   1315\u001b[0m \u001b[0;34m\u001b[0m\u001b[0m\n\u001b[1;32m   1316\u001b[0m         if needs_i8_conversion(ax.dtype) or isinstance(\n",
      "\u001b[0;32m~/PycharmProjects/predicting_age/venv/lib/python3.10/site-packages/pandas/core/indexing.py\u001b[0m in \u001b[0;36m_validate_read_indexer\u001b[0;34m(self, key, indexer, axis)\u001b[0m\n\u001b[1;32m   1375\u001b[0m \u001b[0;34m\u001b[0m\u001b[0m\n\u001b[1;32m   1376\u001b[0m             \u001b[0mnot_found\u001b[0m \u001b[0;34m=\u001b[0m \u001b[0mlist\u001b[0m\u001b[0;34m(\u001b[0m\u001b[0mensure_index\u001b[0m\u001b[0;34m(\u001b[0m\u001b[0mkey\u001b[0m\u001b[0;34m)\u001b[0m\u001b[0;34m[\u001b[0m\u001b[0mmissing_mask\u001b[0m\u001b[0;34m.\u001b[0m\u001b[0mnonzero\u001b[0m\u001b[0;34m(\u001b[0m\u001b[0;34m)\u001b[0m\u001b[0;34m[\u001b[0m\u001b[0;36m0\u001b[0m\u001b[0;34m]\u001b[0m\u001b[0;34m]\u001b[0m\u001b[0;34m.\u001b[0m\u001b[0munique\u001b[0m\u001b[0;34m(\u001b[0m\u001b[0;34m)\u001b[0m\u001b[0;34m)\u001b[0m\u001b[0;34m\u001b[0m\u001b[0;34m\u001b[0m\u001b[0m\n\u001b[0;32m-> 1377\u001b[0;31m             \u001b[0;32mraise\u001b[0m \u001b[0mKeyError\u001b[0m\u001b[0;34m(\u001b[0m\u001b[0;34mf\"{not_found} not in index\"\u001b[0m\u001b[0;34m)\u001b[0m\u001b[0;34m\u001b[0m\u001b[0;34m\u001b[0m\u001b[0m\n\u001b[0m\u001b[1;32m   1378\u001b[0m \u001b[0;34m\u001b[0m\u001b[0m\n\u001b[1;32m   1379\u001b[0m \u001b[0;34m\u001b[0m\u001b[0m\n",
      "\u001b[0;31mKeyError\u001b[0m: \"['regression_model__n_estimators'] not in index\""
     ]
    }
   ],
   "source": [
    "df_cv_results[[\n",
    "    'mean_test_score', \n",
    "    'mean_train_score', \n",
    "    'std_test_score',\n",
    "    'std_train_score'\n",
    "    , 'regression_model__n_estimators'\n",
    "    #, 'regression_model__max_features'\n",
    "    #, 'regression_model__subsample'\n",
    "    #, 'regression_model__learning_rate'\n",
    "]].head(20)"
   ]
  },
  {
   "cell_type": "code",
   "execution_count": 79,
   "id": "1aa6e12a-a550-4cc1-a93a-d199f8414b2c",
   "metadata": {},
   "outputs": [
    {
     "data": {
      "text/plain": [
       "mean_test_score                     0.488885\n",
       "mean_train_score                    0.852114\n",
       "std_test_score                      0.037214\n",
       "std_train_score                     0.003945\n",
       "regression_model__max_features      0.900000\n",
       "regression_model__n_estimators     35.000000\n",
       "regression_model__subsample         0.910000\n",
       "regression_model__learning_rate     0.190000\n",
       "Name: 18, dtype: float64"
      ]
     },
     "execution_count": 79,
     "metadata": {},
     "output_type": "execute_result"
    }
   ],
   "source": [
    "df_cv_results[[\n",
    "    'mean_test_score', \n",
    "    'mean_train_score', \n",
    "    'std_test_score',\n",
    "    'std_train_score',\n",
    "    'regression_model__max_features', \n",
    "    'regression_model__n_estimators',\n",
    "    'regression_model__subsample',\n",
    "    'regression_model__learning_rate'\n",
    "]].loc[18]"
   ]
  },
  {
   "cell_type": "code",
   "execution_count": 89,
   "id": "39d089b6-677b-4441-855c-e98f100faaff",
   "metadata": {},
   "outputs": [
    {
     "data": {
      "text/plain": [
       "<Axes: xlabel='regression_model__n_estimators', ylabel='mean_test_score'>"
      ]
     },
     "execution_count": 89,
     "metadata": {},
     "output_type": "execute_result"
    },
    {
     "data": {
      "image/png": "[encoded data removed]",
      "text/plain": [
       "<Figure size 640x480 with 1 Axes>"
      ]
     },
     "metadata": {},
     "output_type": "display_data"
    }
   ],
   "source": [
    "sns.lineplot(data=df_cv_results, x='regression_model__n_estimators', y='mean_test_score')"
   ]
  },
  {
   "cell_type": "code",
   "execution_count": 91,
   "id": "76262fc7-24ce-4995-bbda-cfb2400c7098",
   "metadata": {},
   "outputs": [
    {
     "data": {
      "text/plain": [
       "<Axes: xlabel='regression_model__n_estimators', ylabel='mean_train_score'>"
      ]
     },
     "execution_count": 91,
     "metadata": {},
     "output_type": "execute_result"
    },
    {
     "data": {
      "image/png": "[encoded data removed]",
      "text/plain": [
       "<Figure size 640x480 with 1 Axes>"
      ]
     },
     "metadata": {},
     "output_type": "display_data"
    }
   ],
   "source": [
    "sns.lineplot(data=df_cv_results, x='regression_model__n_estimators', y='mean_train_score')"
   ]
  },
  {
   "cell_type": "code",
   "execution_count": null,
   "id": "a12e04f9-656a-45c4-bd2a-2f01e546607e",
   "metadata": {},
   "outputs": [],
   "source": [
    "train_pred = grided_model.predict(X_train)\n",
    "val_pred = grided_model.predict(X_val)"
   ]
  },
  {
   "cell_type": "code",
   "execution_count": null,
   "id": "bda37b51-b68b-4e7d-9139-2743a644e467",
   "metadata": {},
   "outputs": [],
   "source": [
    "validation_score = round(r2_score(y_val, val_pred), 3)\n",
    "train_score = round(r2_score(y_train_inliers, train_pred), 3)\n",
    "print(f\"Training score {train_score}\")\n",
    "print(f\"Validation score {validation_score}\")"
   ]
  },
  {
   "cell_type": "markdown",
   "id": "4c8f617f-ce51-4dcf-aedf-2170e254d638",
   "metadata": {},
   "source": [
    "## Model testing"
   ]
  },
  {
   "cell_type": "code",
   "execution_count": 97,
   "id": "a73b0153-d077-436d-ba20-468db750381c",
   "metadata": {},
   "outputs": [
    {
     "ename": "TypeError",
     "evalue": "GridSearchCV.__init__() missing 1 required positional argument: 'param_grid'",
     "output_type": "error",
     "traceback": [
      "\u001b[0;31m---------------------------------------------------------------------------\u001b[0m",
      "\u001b[0;31mTypeError\u001b[0m                                 Traceback (most recent call last)",
      "\u001b[0;32m/tmp/ipykernel_6034/3062755707.py\u001b[0m in \u001b[0;36m<cell line: 33>\u001b[0;34m()\u001b[0m\n\u001b[1;32m     31\u001b[0m \u001b[0;34m\u001b[0m\u001b[0m\n\u001b[1;32m     32\u001b[0m \u001b[0;31m# Train grided model\u001b[0m\u001b[0;34m\u001b[0m\u001b[0;34m\u001b[0m\u001b[0m\n\u001b[0;32m---> 33\u001b[0;31m \u001b[0mgrided_model\u001b[0m \u001b[0;34m=\u001b[0m \u001b[0mGridSearchCV\u001b[0m\u001b[0;34m(\u001b[0m\u001b[0mpipe\u001b[0m\u001b[0;34m,\u001b[0m \u001b[0mscoring\u001b[0m\u001b[0;34m=\u001b[0m\u001b[0;34m'r2'\u001b[0m\u001b[0;34m,\u001b[0m \u001b[0mn_jobs\u001b[0m\u001b[0;34m=\u001b[0m\u001b[0;34m-\u001b[0m\u001b[0;36m1\u001b[0m\u001b[0;34m,\u001b[0m \u001b[0mcv\u001b[0m\u001b[0;34m=\u001b[0m\u001b[0;36m25\u001b[0m\u001b[0;34m,\u001b[0m \u001b[0mreturn_train_score\u001b[0m\u001b[0;34m=\u001b[0m\u001b[0;32mTrue\u001b[0m\u001b[0;34m)\u001b[0m\u001b[0;34m\u001b[0m\u001b[0;34m\u001b[0m\u001b[0m\n\u001b[0m\u001b[1;32m     34\u001b[0m \u001b[0mgrided_model\u001b[0m\u001b[0;34m.\u001b[0m\u001b[0mfit\u001b[0m\u001b[0;34m(\u001b[0m\u001b[0mdf_x_train\u001b[0m\u001b[0;34m,\u001b[0m \u001b[0mnp\u001b[0m\u001b[0;34m.\u001b[0m\u001b[0marray\u001b[0m\u001b[0;34m(\u001b[0m\u001b[0mdf_y_train\u001b[0m\u001b[0;34m)\u001b[0m\u001b[0;34m.\u001b[0m\u001b[0mravel\u001b[0m\u001b[0;34m(\u001b[0m\u001b[0;34m)\u001b[0m\u001b[0;34m)\u001b[0m\u001b[0;34m\u001b[0m\u001b[0;34m\u001b[0m\u001b[0m\n\u001b[1;32m     35\u001b[0m \u001b[0;34m\u001b[0m\u001b[0m\n",
      "\u001b[0;31mTypeError\u001b[0m: GridSearchCV.__init__() missing 1 required positional argument: 'param_grid'"
     ]
    }
   ],
   "source": [
    "from sklearn.pipeline import Pipeline           \n",
    "from sklearn.model_selection import GridSearchCV\n",
    "from sklearn.ensemble import GradientBoostingRegressor\n",
    "from sklearn.feature_selection import SelectFromModel\n",
    "from time import time, sleep\n",
    "\n",
    "start_t = time()\n",
    "\n",
    "selector_model = GradientBoostingRegressor(\n",
    "    random_state=0,\n",
    "    n_estimators=70,\n",
    "    subsample=0.7,\n",
    "    max_features=0.9,\n",
    "    learning_rate=0.06\n",
    ")\n",
    "\n",
    "pipe = Pipeline([\n",
    "('scaler', preprocessing.RobustScaler()),\n",
    "('imputer', KNNImputer()),\n",
    "('feature_selector', SelectFromModel(selector_model)),\n",
    "('regression_model', GradientBoostingRegressor())\n",
    "])\n",
    "\n",
    "pipe.set_params(\n",
    "    imputer__missing_values=np.nan, \n",
    "    imputer__weights=\"distance\",\n",
    "    feature_selector__threshold=\"2*mean\",\n",
    ")\n",
    "\n",
    "# Set grid / solution space\n",
    "n_max_features_range = [0.9] #np.arange(0.7, 0.98, 0.025)\n",
    "n_estim_range =  [35]\n",
    "n_subsample_range = [0.91]\n",
    "learning_rate_range = [0.19]\n",
    "\n",
    "# Train grided model\n",
    "grided_model = GridSearchCV(pipe, parameters, scoring='r2', n_jobs=-1, cv=5, return_train_score=True)\n",
    "grided_model.fit(X_train, np.array(y_train).ravel())\n",
    "\n",
    "print(f\"Elapsed time {round((time()-start_t)/60, 3)} min\")"
   ]
  },
  {
   "cell_type": "code",
   "execution_count": 101,
   "id": "655990bb-f87f-4a4d-bf94-59eff1f243ab",
   "metadata": {},
   "outputs": [
    {
     "data": {
      "text/plain": [
       "array([1.  , 1.05, 1.1 , 1.15, 1.2 , 1.25, 1.3 , 1.35, 1.4 , 1.45, 1.5 ,\n",
       "       1.55, 1.6 , 1.65, 1.7 , 1.75, 1.8 , 1.85, 1.9 , 1.95, 2.  , 2.05])"
      ]
     },
     "execution_count": 101,
     "metadata": {},
     "output_type": "execute_result"
    }
   ],
   "source": [
    "np.arange(1, 2.1, 0.05)"
   ]
  }
 ],
 "metadata": {
  "kernelspec": {
   "display_name": "Python 3 (ipykernel)",
   "language": "python",
   "name": "python3"
  },
  "language_info": {
   "codemirror_mode": {
    "name": "ipython",
    "version": 3
   },
   "file_extension": ".py",
   "mimetype": "text/x-python",
   "name": "python",
   "nbconvert_exporter": "python",
   "pygments_lexer": "ipython3",
   "version": "3.10.12"
  }
 },
 "nbformat": 4,
 "nbformat_minor": 5
}
