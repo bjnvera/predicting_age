{
 "cells": [
  {
   "cell_type": "code",
   "execution_count": 2,
   "id": "initial_id",
   "metadata": {},
   "outputs": [],
   "source": [
    "import sys\n",
    "sys.path.append(\"../src\")\n",
    "\n",
    "%matplotlib inline\n",
    "import numpy as np\n",
    "import matplotlib.pyplot as plt\n",
    "import seaborn as sns; sns.set()\n",
    "import numpy as np\n",
    "import pandas as pd\n",
    "from sklearn.metrics import r2_score\n",
    "import seaborn as sns\n",
    "\n",
    "from lib.pipeline import get_preprocessors, reduce_dimension, detect_outliers\n",
    "\n",
    "from lib.i_o import read_csv"
   ]
  },
  {
   "cell_type": "code",
   "execution_count": 3,
   "id": "317957d3-b980-4440-ae63-997129f289d6",
   "metadata": {},
   "outputs": [
    {
     "name": "stdout",
     "output_type": "stream",
     "text": [
      "Read data from ../data/X_train.csv\n",
      "Read data from ../data/y_train.csv\n"
     ]
    }
   ],
   "source": [
    "df_x_train = read_csv(\"X_train.csv\", \"../data/\")\n",
    "df_y_train = read_csv(\"y_train.csv\", \"../data/\")"
   ]
  },
  {
   "cell_type": "code",
   "execution_count": 4,
   "id": "02c225af-1e45-4d49-b1d0-1f8c68a78b3d",
   "metadata": {},
   "outputs": [
    {
     "name": "stdout",
     "output_type": "stream",
     "text": [
      "#Features: 833\n",
      "#observations: 1212\n"
     ]
    }
   ],
   "source": [
    "print(f\"#Features: {df_x_train.shape[1]}\\n#observations: {df_x_train.shape[0]}\")"
   ]
  },
  {
   "cell_type": "code",
   "execution_count": 5,
   "id": "2f3e013e-4d17-4165-a2e2-126b689eb642",
   "metadata": {},
   "outputs": [
    {
     "data": {
      "text/plain": [
       "count    1212.000000\n",
       "mean       69.889439\n",
       "std         9.720843\n",
       "min        42.000000\n",
       "25%        64.000000\n",
       "50%        70.000000\n",
       "75%        77.000000\n",
       "max        97.000000\n",
       "Name: y, dtype: float64"
      ]
     },
     "execution_count": 5,
     "metadata": {},
     "output_type": "execute_result"
    }
   ],
   "source": [
    "df_y_train['y'].describe()"
   ]
  },
  {
   "cell_type": "code",
   "execution_count": 6,
   "id": "c57414d2-62bd-49fb-9271-9c603946d891",
   "metadata": {},
   "outputs": [
    {
     "name": "stderr",
     "output_type": "stream",
     "text": [
      "/home/bjn/PycharmProjects/predicting_age/venv/lib/python3.10/site-packages/seaborn/_decorators.py:36: FutureWarning: Pass the following variable as a keyword arg: x. From version 0.12, the only valid positional argument will be `data`, and passing other arguments without an explicit keyword will result in an error or misinterpretation.\n",
      "  warnings.warn(\n"
     ]
    },
    {
     "data": {
      "text/plain": [
       "<Axes: xlabel='y'>"
      ]
     },
     "execution_count": 6,
     "metadata": {},
     "output_type": "execute_result"
    },
    {
     "data": {
      "image/png": "[encoded data removed]",
      "text/plain": [
       "<Figure size 640x480 with 1 Axes>"
      ]
     },
     "metadata": {},
     "output_type": "display_data"
    }
   ],
   "source": [
    "sns.boxplot(df_y_train['y'])"
   ]
  },
  {
   "cell_type": "code",
   "execution_count": 7,
   "id": "d5a04f4e-ccdc-467b-a7cc-fdb6d8ac1ceb",
   "metadata": {},
   "outputs": [
    {
     "data": {
      "text/plain": [
       "<Axes: xlabel='Count', ylabel='y'>"
      ]
     },
     "execution_count": 7,
     "metadata": {},
     "output_type": "execute_result"
    },
    {
     "data": {
      "image/png": "[encoded data removed]",
      "text/plain": [
       "<Figure size 640x480 with 1 Axes>"
      ]
     },
     "metadata": {},
     "output_type": "display_data"
    }
   ],
   "source": [
    "sns.histplot(data=df_y_train, y='y')"
   ]
  },
  {
   "cell_type": "code",
   "execution_count": 13,
   "id": "1fb47d8a-29fe-42f9-9b3b-8148ec1d320b",
   "metadata": {},
   "outputs": [
    {
     "data": {
      "text/plain": [
       "array([64.  , 70.  , 77.  , 78.  , 82.  , 85.  , 91.89])"
      ]
     },
     "execution_count": 13,
     "metadata": {},
     "output_type": "execute_result"
    }
   ],
   "source": [
    "np.quantile(df_y_train['y'], [0.25, 0.5, 0.75, 0.8, 0.9, 0.95, 0.99])"
   ]
  },
  {
   "cell_type": "code",
   "execution_count": 8,
   "id": "3e4f9127-5629-4f62-8fe4-ebc033166e48",
   "metadata": {},
   "outputs": [],
   "source": [
    "df_x_train['y'] = df_y_train['y']"
   ]
  },
  {
   "cell_type": "code",
   "execution_count": 9,
   "id": "6a1f0c43-9601-47ed-9572-bcdb324df4e9",
   "metadata": {},
   "outputs": [],
   "source": [
    "from sklearn.impute import SimpleImputer\n",
    "df_impute_before = df_x_train.drop(columns='id')\n",
    "\n",
    "imp = SimpleImputer(missing_values=np.nan, strategy='mean')\n",
    "imp.fit(df_impute_before)\n",
    "df_x_train_imputed = pd.DataFrame(imp.transform(df_impute_before))"
   ]
  },
  {
   "cell_type": "code",
   "execution_count": 10,
   "id": "31c77c82-5bc6-4455-bf18-152aa097d9c4",
   "metadata": {},
   "outputs": [
    {
     "data": {
      "text/html": [
       "<div>\n",
       "<style scoped>\n",
       "    .dataframe tbody tr th:only-of-type {\n",
       "        vertical-align: middle;\n",
       "    }\n",
       "\n",
       "    .dataframe tbody tr th {\n",
       "        vertical-align: top;\n",
       "    }\n",
       "\n",
       "    .dataframe thead th {\n",
       "        text-align: right;\n",
       "    }\n",
       "</style>\n",
       "<table border=\"1\" class=\"dataframe\">\n",
       "  <thead>\n",
       "    <tr style=\"text-align: right;\">\n",
       "      <th></th>\n",
       "      <th>0</th>\n",
       "      <th>1</th>\n",
       "      <th>2</th>\n",
       "      <th>3</th>\n",
       "      <th>4</th>\n",
       "      <th>5</th>\n",
       "      <th>6</th>\n",
       "      <th>7</th>\n",
       "      <th>8</th>\n",
       "      <th>9</th>\n",
       "      <th>...</th>\n",
       "      <th>823</th>\n",
       "      <th>824</th>\n",
       "      <th>825</th>\n",
       "      <th>826</th>\n",
       "      <th>827</th>\n",
       "      <th>828</th>\n",
       "      <th>829</th>\n",
       "      <th>830</th>\n",
       "      <th>831</th>\n",
       "      <th>832</th>\n",
       "    </tr>\n",
       "  </thead>\n",
       "  <tbody>\n",
       "    <tr>\n",
       "      <th>count</th>\n",
       "      <td>1212.000000</td>\n",
       "      <td>1212.000000</td>\n",
       "      <td>1212.000000</td>\n",
       "      <td>1212.000000</td>\n",
       "      <td>1212.000000</td>\n",
       "      <td>1212.000000</td>\n",
       "      <td>1212.000000</td>\n",
       "      <td>1212.000000</td>\n",
       "      <td>1212.000000</td>\n",
       "      <td>1212.000000</td>\n",
       "      <td>...</td>\n",
       "      <td>1212.000000</td>\n",
       "      <td>1212.000000</td>\n",
       "      <td>1212.000000</td>\n",
       "      <td>1212.000000</td>\n",
       "      <td>1212.000000</td>\n",
       "      <td>1212.000000</td>\n",
       "      <td>1212.000000</td>\n",
       "      <td>1212.000000</td>\n",
       "      <td>1212.000000</td>\n",
       "      <td>1212.000000</td>\n",
       "    </tr>\n",
       "    <tr>\n",
       "      <th>mean</th>\n",
       "      <td>15220.402957</td>\n",
       "      <td>10950.160761</td>\n",
       "      <td>3430.837498</td>\n",
       "      <td>100002.281022</td>\n",
       "      <td>105.070358</td>\n",
       "      <td>99.968855</td>\n",
       "      <td>9983.055476</td>\n",
       "      <td>10496.207179</td>\n",
       "      <td>10495.835570</td>\n",
       "      <td>9.985880</td>\n",
       "      <td>...</td>\n",
       "      <td>13274.793928</td>\n",
       "      <td>812.316152</td>\n",
       "      <td>104.968652</td>\n",
       "      <td>105.063790</td>\n",
       "      <td>2482.685073</td>\n",
       "      <td>2.725659</td>\n",
       "      <td>1359.981226</td>\n",
       "      <td>1052.256384</td>\n",
       "      <td>9981.085085</td>\n",
       "      <td>69.889439</td>\n",
       "    </tr>\n",
       "    <tr>\n",
       "      <th>std</th>\n",
       "      <td>2226.067754</td>\n",
       "      <td>1515.160528</td>\n",
       "      <td>427.016139</td>\n",
       "      <td>9336.184837</td>\n",
       "      <td>2.746611</td>\n",
       "      <td>9.248719</td>\n",
       "      <td>941.082486</td>\n",
       "      <td>267.218490</td>\n",
       "      <td>278.729862</td>\n",
       "      <td>0.958969</td>\n",
       "      <td>...</td>\n",
       "      <td>2084.004479</td>\n",
       "      <td>173.323959</td>\n",
       "      <td>2.692260</td>\n",
       "      <td>2.688044</td>\n",
       "      <td>500.922343</td>\n",
       "      <td>0.253089</td>\n",
       "      <td>255.066942</td>\n",
       "      <td>28.192174</td>\n",
       "      <td>973.447237</td>\n",
       "      <td>9.720843</td>\n",
       "    </tr>\n",
       "    <tr>\n",
       "      <th>min</th>\n",
       "      <td>5636.623777</td>\n",
       "      <td>6764.060541</td>\n",
       "      <td>1849.453269</td>\n",
       "      <td>65828.916291</td>\n",
       "      <td>100.056578</td>\n",
       "      <td>70.232469</td>\n",
       "      <td>6797.836298</td>\n",
       "      <td>10000.771287</td>\n",
       "      <td>10000.339782</td>\n",
       "      <td>6.759685</td>\n",
       "      <td>...</td>\n",
       "      <td>4100.700865</td>\n",
       "      <td>164.997735</td>\n",
       "      <td>100.040624</td>\n",
       "      <td>100.015930</td>\n",
       "      <td>750.038434</td>\n",
       "      <td>1.590647</td>\n",
       "      <td>663.173673</td>\n",
       "      <td>1000.067137</td>\n",
       "      <td>6383.771227</td>\n",
       "      <td>42.000000</td>\n",
       "    </tr>\n",
       "    <tr>\n",
       "      <th>25%</th>\n",
       "      <td>13931.809724</td>\n",
       "      <td>9926.530547</td>\n",
       "      <td>3170.385944</td>\n",
       "      <td>94358.738184</td>\n",
       "      <td>102.811093</td>\n",
       "      <td>94.195727</td>\n",
       "      <td>9428.209799</td>\n",
       "      <td>10284.999365</td>\n",
       "      <td>10263.060018</td>\n",
       "      <td>9.375400</td>\n",
       "      <td>...</td>\n",
       "      <td>12076.791406</td>\n",
       "      <td>702.078405</td>\n",
       "      <td>102.864339</td>\n",
       "      <td>102.902380</td>\n",
       "      <td>2181.823042</td>\n",
       "      <td>2.557012</td>\n",
       "      <td>1194.652957</td>\n",
       "      <td>1030.447895</td>\n",
       "      <td>9382.893669</td>\n",
       "      <td>64.000000</td>\n",
       "    </tr>\n",
       "    <tr>\n",
       "      <th>50%</th>\n",
       "      <td>15220.402957</td>\n",
       "      <td>10950.160761</td>\n",
       "      <td>3430.837498</td>\n",
       "      <td>100002.281022</td>\n",
       "      <td>105.070358</td>\n",
       "      <td>99.968855</td>\n",
       "      <td>9983.055476</td>\n",
       "      <td>10496.207179</td>\n",
       "      <td>10495.835570</td>\n",
       "      <td>9.985880</td>\n",
       "      <td>...</td>\n",
       "      <td>13274.793928</td>\n",
       "      <td>809.042463</td>\n",
       "      <td>104.968652</td>\n",
       "      <td>105.063790</td>\n",
       "      <td>2482.685073</td>\n",
       "      <td>2.725659</td>\n",
       "      <td>1359.981226</td>\n",
       "      <td>1052.256384</td>\n",
       "      <td>9981.085085</td>\n",
       "      <td>70.000000</td>\n",
       "    </tr>\n",
       "    <tr>\n",
       "      <th>75%</th>\n",
       "      <td>16485.603116</td>\n",
       "      <td>11751.038613</td>\n",
       "      <td>3668.158481</td>\n",
       "      <td>105531.874497</td>\n",
       "      <td>107.353976</td>\n",
       "      <td>105.397439</td>\n",
       "      <td>10491.489465</td>\n",
       "      <td>10700.871543</td>\n",
       "      <td>10718.409364</td>\n",
       "      <td>10.606376</td>\n",
       "      <td>...</td>\n",
       "      <td>14431.290607</td>\n",
       "      <td>911.343060</td>\n",
       "      <td>106.993646</td>\n",
       "      <td>107.185396</td>\n",
       "      <td>2743.530473</td>\n",
       "      <td>2.868703</td>\n",
       "      <td>1517.190330</td>\n",
       "      <td>1076.100611</td>\n",
       "      <td>10584.942325</td>\n",
       "      <td>77.000000</td>\n",
       "    </tr>\n",
       "    <tr>\n",
       "      <th>max</th>\n",
       "      <td>28273.690135</td>\n",
       "      <td>17777.338221</td>\n",
       "      <td>5622.951648</td>\n",
       "      <td>133145.632257</td>\n",
       "      <td>110.087261</td>\n",
       "      <td>130.142499</td>\n",
       "      <td>13865.848591</td>\n",
       "      <td>11000.062311</td>\n",
       "      <td>10999.403374</td>\n",
       "      <td>13.828922</td>\n",
       "      <td>...</td>\n",
       "      <td>24901.251674</td>\n",
       "      <td>1589.225040</td>\n",
       "      <td>110.072565</td>\n",
       "      <td>110.069056</td>\n",
       "      <td>4904.988601</td>\n",
       "      <td>3.795277</td>\n",
       "      <td>2506.104650</td>\n",
       "      <td>1099.975679</td>\n",
       "      <td>13265.026039</td>\n",
       "      <td>97.000000</td>\n",
       "    </tr>\n",
       "  </tbody>\n",
       "</table>\n",
       "<p>8 rows × 833 columns</p>\n",
       "</div>"
      ],
      "text/plain": [
       "                0             1            2              3            4    \\\n",
       "count   1212.000000   1212.000000  1212.000000    1212.000000  1212.000000   \n",
       "mean   15220.402957  10950.160761  3430.837498  100002.281022   105.070358   \n",
       "std     2226.067754   1515.160528   427.016139    9336.184837     2.746611   \n",
       "min     5636.623777   6764.060541  1849.453269   65828.916291   100.056578   \n",
       "25%    13931.809724   9926.530547  3170.385944   94358.738184   102.811093   \n",
       "50%    15220.402957  10950.160761  3430.837498  100002.281022   105.070358   \n",
       "75%    16485.603116  11751.038613  3668.158481  105531.874497   107.353976   \n",
       "max    28273.690135  17777.338221  5622.951648  133145.632257   110.087261   \n",
       "\n",
       "               5             6             7             8            9    \\\n",
       "count  1212.000000   1212.000000   1212.000000   1212.000000  1212.000000   \n",
       "mean     99.968855   9983.055476  10496.207179  10495.835570     9.985880   \n",
       "std       9.248719    941.082486    267.218490    278.729862     0.958969   \n",
       "min      70.232469   6797.836298  10000.771287  10000.339782     6.759685   \n",
       "25%      94.195727   9428.209799  10284.999365  10263.060018     9.375400   \n",
       "50%      99.968855   9983.055476  10496.207179  10495.835570     9.985880   \n",
       "75%     105.397439  10491.489465  10700.871543  10718.409364    10.606376   \n",
       "max     130.142499  13865.848591  11000.062311  10999.403374    13.828922   \n",
       "\n",
       "       ...           823          824          825          826          827  \\\n",
       "count  ...   1212.000000  1212.000000  1212.000000  1212.000000  1212.000000   \n",
       "mean   ...  13274.793928   812.316152   104.968652   105.063790  2482.685073   \n",
       "std    ...   2084.004479   173.323959     2.692260     2.688044   500.922343   \n",
       "min    ...   4100.700865   164.997735   100.040624   100.015930   750.038434   \n",
       "25%    ...  12076.791406   702.078405   102.864339   102.902380  2181.823042   \n",
       "50%    ...  13274.793928   809.042463   104.968652   105.063790  2482.685073   \n",
       "75%    ...  14431.290607   911.343060   106.993646   107.185396  2743.530473   \n",
       "max    ...  24901.251674  1589.225040   110.072565   110.069056  4904.988601   \n",
       "\n",
       "               828          829          830           831          832  \n",
       "count  1212.000000  1212.000000  1212.000000   1212.000000  1212.000000  \n",
       "mean      2.725659  1359.981226  1052.256384   9981.085085    69.889439  \n",
       "std       0.253089   255.066942    28.192174    973.447237     9.720843  \n",
       "min       1.590647   663.173673  1000.067137   6383.771227    42.000000  \n",
       "25%       2.557012  1194.652957  1030.447895   9382.893669    64.000000  \n",
       "50%       2.725659  1359.981226  1052.256384   9981.085085    70.000000  \n",
       "75%       2.868703  1517.190330  1076.100611  10584.942325    77.000000  \n",
       "max       3.795277  2506.104650  1099.975679  13265.026039    97.000000  \n",
       "\n",
       "[8 rows x 833 columns]"
      ]
     },
     "execution_count": 10,
     "metadata": {},
     "output_type": "execute_result"
    }
   ],
   "source": [
    "df_x_train_imputed.describe()"
   ]
  },
  {
   "cell_type": "code",
   "execution_count": 11,
   "id": "6ced997c-05d9-4a2c-a915-a44093f735ff",
   "metadata": {},
   "outputs": [
    {
     "ename": "NameError",
     "evalue": "name 'X_train_imputed' is not defined",
     "output_type": "error",
     "traceback": [
      "\u001b[0;31m---------------------------------------------------------------------------\u001b[0m",
      "\u001b[0;31mNameError\u001b[0m                                 Traceback (most recent call last)",
      "\u001b[0;32m/tmp/ipykernel_21124/1127994204.py\u001b[0m in \u001b[0;36m<cell line: 1>\u001b[0;34m()\u001b[0m\n\u001b[0;32m----> 1\u001b[0;31m \u001b[0mdf_embedding\u001b[0m \u001b[0;34m=\u001b[0m \u001b[0mreduce_dimension\u001b[0m\u001b[0;34m(\u001b[0m\u001b[0mX_train_imputed\u001b[0m\u001b[0;34m)\u001b[0m\u001b[0;34m\u001b[0m\u001b[0;34m\u001b[0m\u001b[0m\n\u001b[0m\u001b[1;32m      2\u001b[0m \u001b[0mdf_embedding\u001b[0m\u001b[0;34m[\u001b[0m\u001b[0;34m'y'\u001b[0m\u001b[0;34m]\u001b[0m \u001b[0;34m=\u001b[0m \u001b[0my_train_scaled_imputed\u001b[0m\u001b[0;34m\u001b[0m\u001b[0;34m\u001b[0m\u001b[0m\n\u001b[1;32m      3\u001b[0m \u001b[0mdf_embedding\u001b[0m\u001b[0;34m.\u001b[0m\u001b[0mhead\u001b[0m\u001b[0;34m(\u001b[0m\u001b[0;34m)\u001b[0m\u001b[0;34m\u001b[0m\u001b[0;34m\u001b[0m\u001b[0m\n",
      "\u001b[0;31mNameError\u001b[0m: name 'X_train_imputed' is not defined"
     ]
    }
   ],
   "source": [
    "df_embedding = reduce_dimension(X_train_imputed)\n",
    "df_embedding['y'] = y_train_scaled_imputed\n",
    "df_embedding.head()"
   ]
  },
  {
   "cell_type": "code",
   "execution_count": null,
   "id": "91d17077-6ccb-4266-afe6-22a0a5a40a09",
   "metadata": {},
   "outputs": [],
   "source": [
    "import seaborn as sns \n",
    "sns.scatterplot(x=0, y=1, data=df_embedding, hue='is_inlier');"
   ]
  },
  {
   "cell_type": "code",
   "execution_count": null,
   "id": "201635df-a7b0-4fe2-b7d9-3c677b3fdb24",
   "metadata": {},
   "outputs": [],
   "source": [
    "# Join out / inlier column\n",
    "is_inlier = detect_outliers(df_embedding)\n",
    "df_embedding[\"is_inlier\"] = is_inlier\n",
    "X_train_imputed = pd.DataFrame(X_train_imputed)\n",
    "X_train_imputed['is_inlier'] = is_inlier"
   ]
  },
  {
   "cell_type": "code",
   "execution_count": null,
   "id": "53a259e3-950f-4f21-b57f-6f324f83f435",
   "metadata": {},
   "outputs": [],
   "source": [
    "# Join y column\n",
    "df_x_train_imputed['id'] = df_x_train['id']\n",
    "df_x_train_imputed = df_x_train_imputed.merge(df_y_train, how='left', left_on='id', right_on='id')"
   ]
  },
  {
   "cell_type": "code",
   "execution_count": null,
   "id": "da57156f-ae2f-46bb-9d0d-adb45a5597ca",
   "metadata": {},
   "outputs": [],
   "source": [
    "# Remove outliers\n",
    "df_x_train_inliers = df_x_train_imputed[df_x_train_imputed['is_inlier']].drop(columns=['id', 'is_inlier', 'isof_cat'])"
   ]
  },
  {
   "cell_type": "code",
   "execution_count": null,
   "id": "8ed58982-1197-427a-8d9b-6a0037b601b7",
   "metadata": {},
   "outputs": [],
   "source": [
    "# Prepare data for splitting\n",
    "X = df_x_train_inliers.drop(columns='y')\n",
    "y = df_x_train_inliers['y']"
   ]
  },
  {
   "cell_type": "code",
   "execution_count": null,
   "id": "25690177-5c1b-4df4-ab2f-7daff306134a",
   "metadata": {},
   "outputs": [],
   "source": [
    "from sklearn.model_selection import train_test_split\n",
    "\n",
    "X_train_val, X_test, y_train_val, y_test = train_test_split(X, y, test_size=0.15, random_state=1)\n",
    "X_train, X_val, y_train, y_val = train_test_split(X_train_val, y_train_val, test_size=0.25, random_state=1) "
   ]
  },
  {
   "cell_type": "code",
   "execution_count": null,
   "id": "b2fb7473-f7e0-42ce-b6d5-1fb10108c33a",
   "metadata": {},
   "outputs": [],
   "source": [
    "# Standardize features\n",
    "from sklearn import preprocessing\n",
    "scaler = preprocessing.StandardScaler().fit(X_train)\n",
    "X_train_scaled = scaler.transform(X_train)\n",
    "X_val_scaled = scaler.transform(X_val)"
   ]
  },
  {
   "cell_type": "code",
   "execution_count": null,
   "id": "08c0d18f-e117-4317-a061-fb1400842cf0",
   "metadata": {},
   "outputs": [],
   "source": [
    "pd.DataFrame(X_train_scaled).head()"
   ]
  },
  {
   "cell_type": "code",
   "execution_count": null,
   "id": "e92ebccb-dbe1-45ad-8fd2-9c837eb8ede4",
   "metadata": {},
   "outputs": [],
   "source": [
    "pd.DataFrame(X_train_scaled).describe()"
   ]
  },
  {
   "cell_type": "code",
   "execution_count": null,
   "id": "30b613db-cd52-41f5-b9a3-da6bc626ef89",
   "metadata": {},
   "outputs": [],
   "source": []
  }
 ],
 "metadata": {
  "kernelspec": {
   "display_name": "Python 3 (ipykernel)",
   "language": "python",
   "name": "python3"
  },
  "language_info": {
   "codemirror_mode": {
    "name": "ipython",
    "version": 3
   },
   "file_extension": ".py",
   "mimetype": "text/x-python",
   "name": "python",
   "nbconvert_exporter": "python",
   "pygments_lexer": "ipython3",
   "version": "3.10.12"
  }
 },
 "nbformat": 4,
 "nbformat_minor": 5
}
